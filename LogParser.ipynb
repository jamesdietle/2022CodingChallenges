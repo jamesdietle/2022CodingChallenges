{
  "nbformat": 4,
  "nbformat_minor": 0,
  "metadata": {
    "colab": {
      "name": "LogParser.ipynb",
      "provenance": [],
      "collapsed_sections": [],
      "authorship_tag": "ABX9TyPniZdv/OuOQ1gDxNLI21NS",
      "include_colab_link": true
    },
    "kernelspec": {
      "name": "python3",
      "display_name": "Python 3"
    },
    "language_info": {
      "name": "python"
    }
  },
  "cells": [
    {
      "cell_type": "markdown",
      "metadata": {
        "id": "view-in-github",
        "colab_type": "text"
      },
      "source": [
        "<a href=\"https://colab.research.google.com/github/jamesdietle/2022CodingChallenges/blob/main/LogParser.ipynb\" target=\"_parent\"><img src=\"https://colab.research.google.com/assets/colab-badge.svg\" alt=\"Open In Colab\"/></a>"
      ]
    },
    {
      "cell_type": "markdown",
      "source": [
        "We are going to Parse some logs!\n",
        "\n",
        "Refs:\n",
        "Lets use https://cyberdefenders.org/blueteam-ctf-challenges/42\n",
        "\n",
        "https://medium.com/mii-cybersec/log-analysis-in-dfir-using-jupyter-notebook-7bb8ea3c015b"
      ],
      "metadata": {
        "id": "maArVRQ7qUTe"
      }
    },
    {
      "cell_type": "markdown",
      "source": [
        "Things to do:\n",
        "- Finish questions\n",
        "- IP to Geolocation/EDA"
      ],
      "metadata": {
        "id": "EogxQhXF9ieU"
      }
    },
    {
      "cell_type": "code",
      "source": [
        "!ls"
      ],
      "metadata": {
        "colab": {
          "base_uri": "https://localhost:8080/"
        },
        "id": "utOj6DPlqSM3",
        "outputId": "3bd72e3f-78f8-4e23-e288-5262ef5442ee"
      },
      "execution_count": 14,
      "outputs": [
        {
          "output_type": "stream",
          "name": "stdout",
          "text": [
            "c26-Hammered.zip  file\tHammered  sample_data\n"
          ]
        }
      ]
    },
    {
      "cell_type": "code",
      "source": [
        "!curl https://cyberdefenders.org/blueteam-ctf-challenges/enroll/42 --output c26.zip"
      ],
      "metadata": {
        "colab": {
          "base_uri": "https://localhost:8080/"
        },
        "id": "K6s_4-BdqT39",
        "outputId": "f4ccb6c3-85df-46c8-87c8-2a36172d2c69"
      },
      "execution_count": 2,
      "outputs": [
        {
          "output_type": "stream",
          "name": "stdout",
          "text": [
            "  % Total    % Received % Xferd  Average Speed   Time    Time     Time  Current\n",
            "                                 Dload  Upload   Total   Spent    Left  Speed\n",
            "  0     0    0     0    0     0      0      0 --:--:-- --:--:-- --:--:--     0\n"
          ]
        }
      ]
    },
    {
      "cell_type": "code",
      "execution_count": 12,
      "metadata": {
        "colab": {
          "base_uri": "https://localhost:8080/"
        },
        "id": "ofTjyHSkqPsH",
        "outputId": "5fb06ea1-2e14-416b-9f4d-73697db814c7"
      },
      "outputs": [
        {
          "output_type": "stream",
          "name": "stdout",
          "text": [
            "Archive:  c26-Hammered.zip\n",
            "  inflating: Hammered/apache2/www-access.log  \n",
            "  inflating: Hammered/apache2/www-error.log  \n",
            "  inflating: Hammered/apache2/www-media.log  \n",
            "  inflating: Hammered/apt/term.log   \n",
            "  inflating: Hammered/auth.log       \n",
            "  inflating: Hammered/daemon.log     \n",
            "  inflating: Hammered/debug          \n",
            "  inflating: Hammered/dmesg          \n",
            "  inflating: Hammered/dmesg.0        \n",
            "  inflating: Hammered/dpkg.log       \n",
            "  inflating: Hammered/fontconfig.log  \n",
            "  inflating: Hammered/fsck/checkfs   \n",
            "  inflating: Hammered/fsck/checkroot  \n",
            "  inflating: Hammered/kern.log       \n",
            "  inflating: Hammered/messages       \n",
            " extracting: Hammered/secure         \n",
            "  inflating: Hammered/udev           \n",
            "  inflating: Hammered/user.log       \n"
          ]
        }
      ],
      "source": [
        "#Unzip with the included password\n",
        "!unzip -P cyberdefenders.org c26-Hammered.zip"
      ]
    },
    {
      "cell_type": "code",
      "source": [
        "# Did everything unzip correctly?\n",
        "!ls Hammered/"
      ],
      "metadata": {
        "id": "_m9hW2AMsUQO"
      },
      "execution_count": 15,
      "outputs": []
    },
    {
      "cell_type": "code",
      "source": [
        "from collections import deque"
      ],
      "metadata": {
        "id": "SzX62_86sVl3"
      },
      "execution_count": 16,
      "outputs": []
    },
    {
      "cell_type": "code",
      "source": [
        "findStr= 'WARNING'\n",
        "\n",
        "with open(\"Hammered/daemon.log\") as f:\n",
        "  for line in deque(f, maxlen = 10000000):\n",
        "    if(findStr in line):\n",
        "      daemon+= [line.strip()]"
      ],
      "metadata": {
        "id": "QgmFNW10sZg_"
      },
      "execution_count": 21,
      "outputs": []
    },
    {
      "cell_type": "code",
      "source": [
        "def search(logfile, findStr):\n",
        "  daemon= []\n",
        "  with open(logfile) as f:\n",
        "    for line in deque(f, maxlen = 10000000):\n",
        "      if(findStr in line):\n",
        "        daemon+= [line.strip()]\n",
        "\n",
        "  return daemon"
      ],
      "metadata": {
        "id": "K1WuuKDIvcRh"
      },
      "execution_count": 25,
      "outputs": []
    },
    {
      "cell_type": "code",
      "source": [
        "daemonlog= search(\"Hammered/daemon.log\", 'WARNING')\n",
        "daemonlog"
      ],
      "metadata": {
        "colab": {
          "base_uri": "https://localhost:8080/"
        },
        "id": "f2ImvC4suzia",
        "outputId": "7c723959-58c8-4421-ff9c-d886c0c417b3"
      },
      "execution_count": 32,
      "outputs": [
        {
          "output_type": "execute_result",
          "data": {
            "text/plain": [
              "['Mar 18 10:18:42 app-1 /etc/mysql/debian-start[7566]: WARNING: mysql.user contains 2 root accounts without password!',\n",
              " 'Mar 18 17:01:44 app-1 /etc/mysql/debian-start[14717]: WARNING: mysql.user contains 2 root accounts without password!',\n",
              " 'Mar 22 13:49:49 app-1 /etc/mysql/debian-start[5599]: WARNING: mysql.user contains 2 root accounts without password!',\n",
              " 'Mar 22 18:43:41 app-1 /etc/mysql/debian-start[4755]: WARNING: mysql.user contains 2 root accounts without password!',\n",
              " 'Mar 22 18:45:25 app-1 /etc/mysql/debian-start[4749]: WARNING: mysql.user contains 2 root accounts without password!',\n",
              " 'Mar 25 11:56:53 app-1 /etc/mysql/debian-start[4848]: WARNING: mysql.user contains 2 root accounts without password!',\n",
              " 'Apr 14 14:44:34 app-1 /etc/mysql/debian-start[5369]: WARNING: mysql.user contains 2 root accounts without password!',\n",
              " 'Apr 14 14:44:36 app-1 /etc/mysql/debian-start[5624]: WARNING: mysqlcheck has found corrupt tables',\n",
              " 'Apr 18 18:04:00 app-1 /etc/mysql/debian-start[4647]: WARNING: mysql.user contains 2 root accounts without password!',\n",
              " 'Apr 24 20:21:24 app-1 /etc/mysql/debian-start[5427]: WARNING: mysql.user contains 2 root accounts without password!',\n",
              " 'Apr 28 07:34:26 app-1 /etc/mysql/debian-start[4782]: WARNING: mysql.user contains 2 root accounts without password!',\n",
              " 'Apr 28 07:34:27 app-1 /etc/mysql/debian-start[5032]: WARNING: mysqlcheck has found corrupt tables',\n",
              " 'May  2 23:05:54 app-1 /etc/mysql/debian-start[4774]: WARNING: mysql.user contains 2 root accounts without password!']"
            ]
          },
          "metadata": {},
          "execution_count": 32
        }
      ]
    },
    {
      "cell_type": "code",
      "source": [
        "auth= search(\"Hammered/auth.log\", 'USER=root')\n",
        "auth"
      ],
      "metadata": {
        "colab": {
          "base_uri": "https://localhost:8080/"
        },
        "id": "CXk9I1DQu0rq",
        "outputId": "01089d71-4da8-4500-831c-b29529c8ab8d"
      },
      "execution_count": 43,
      "outputs": [
        {
          "output_type": "execute_result",
          "data": {
            "text/plain": [
              "['Mar 16 08:12:09 app-1 sudo:     user3 : TTY=tty1 ; PWD=/home/user3 ; USER=root ; COMMAND=/bin/su',\n",
              " 'Mar 16 08:27:37 app-1 sudo:     user3 : TTY=pts/0 ; PWD=/home/user3 ; USER=root ; COMMAND=/bin/su',\n",
              " 'Mar 16 10:14:10 app-1 sudo:     user3 : TTY=pts/1 ; PWD=/home/user3 ; USER=root ; COMMAND=/bin/su',\n",
              " 'Mar 16 17:12:41 app-1 sudo:     user3 : TTY=pts/0 ; PWD=/opt/software ; USER=root ; COMMAND=/bin/su',\n",
              " 'Mar 16 17:13:52 app-1 sudo:     user3 : TTY=pts/0 ; PWD=/opt/software ; USER=root ; COMMAND=/bin/su',\n",
              " 'Mar 18 09:43:06 app-1 sudo:     user3 : TTY=tty1 ; PWD=/home/user3 ; USER=root ; COMMAND=/bin/su',\n",
              " 'Mar 18 09:49:52 app-1 sudo:     user3 : TTY=tty1 ; PWD=/opt/software ; USER=root ; COMMAND=/bin/su',\n",
              " 'Mar 18 09:51:23 app-1 sudo:     user3 : TTY=tty1 ; PWD=/home/user3 ; USER=root ; COMMAND=/bin/su',\n",
              " 'Mar 18 09:56:22 app-1 sudo:     user3 : TTY=tty1 ; PWD=/home/user3 ; USER=root ; COMMAND=/bin/su',\n",
              " 'Mar 18 10:00:36 app-1 sudo:     user3 : TTY=pts/1 ; PWD=/home/user3 ; USER=root ; COMMAND=/bin/su',\n",
              " 'Mar 18 10:01:03 app-1 sudo:   user1 : user NOT in sudoers ; TTY=pts/0 ; PWD=/home/user1 ; USER=root ; COMMAND=/bin/su -',\n",
              " 'Mar 18 10:02:09 app-1 sudo:   user1 : TTY=pts/0 ; PWD=/home/user1 ; USER=root ; COMMAND=/bin/su -',\n",
              " 'Mar 18 10:34:55 app-1 sudo:   user1 : TTY=pts/0 ; PWD=/opt/software/web/app ; USER=root ; COMMAND=/usr/bin/vi /opt/software/base/vmscripts/app/django_settings.sh',\n",
              " 'Mar 18 10:35:25 app-1 sudo:     user3 : TTY=pts/1 ; PWD=/home/user3 ; USER=root ; COMMAND=/bin/su',\n",
              " 'Mar 18 10:36:00 app-1 sudo:   user1 : TTY=pts/0 ; PWD=/opt/software/web/app ; USER=root ; COMMAND=/bin/rm software.wsgi',\n",
              " 'Mar 18 10:36:13 app-1 sudo:   user1 : TTY=pts/0 ; PWD=/opt/software/web/app ; USER=root ; COMMAND=/bin/ln -sf /opt/software/web/app/domain-dev.wsgi /opt/software/web/app/software.wsgi',\n",
              " 'Mar 18 10:38:07 app-1 sudo:   user1 : TTY=pts/0 ; PWD=/opt/software/web/app ; USER=root ; COMMAND=/usr/bin/vi settingsdebug.py',\n",
              " 'Mar 18 10:41:09 app-1 sudo:   user1 : TTY=pts/0 ; PWD=/opt/software/web/app ; USER=root ; COMMAND=/usr/bin/svn commit -m settingsdebug should only change the necessary fields, not redefine entire LOGGING statement --user user4',\n",
              " 'Mar 18 10:41:13 app-1 sudo:   user1 : TTY=pts/0 ; PWD=/opt/software/web/app ; USER=root ; COMMAND=/usr/bin/svn commit -m settingsdebug should only change the necessary fields, not redefine entire LOGGING statement --username user4',\n",
              " 'Mar 18 10:43:36 app-1 sudo:   user1 : TTY=pts/0 ; PWD=/opt/software/web/app ; USER=root ; COMMAND=/usr/bin/vi settingsdebug.py',\n",
              " 'Mar 18 10:44:09 app-1 sudo:   user1 : TTY=pts/0 ; PWD=/opt/software/web/app ; USER=root ; COMMAND=/usr/bin/vi settingsextra.py',\n",
              " 'Mar 18 10:45:44 app-1 sudo:   user1 : TTY=pts/0 ; PWD=/opt/software/web/app ; USER=root ; COMMAND=/usr/bin/vi /etc/hosts',\n",
              " 'Mar 18 10:54:47 app-1 sudo:   user1 : TTY=pts/0 ; PWD=/opt/software/web/app ; USER=root ; COMMAND=/usr/bin/vi manage.py',\n",
              " 'Mar 18 10:55:31 app-1 sudo:   user1 : TTY=pts/0 ; PWD=/opt/software/web/app ; USER=root ; COMMAND=/usr/bin/vi /opt/software/base/vmscripts/app/django_settings.sh',\n",
              " 'Mar 18 10:56:12 app-1 sudo:   user1 : TTY=pts/0 ; PWD=/opt/software/web/app ; USER=root ; COMMAND=/usr/bin/vi settingsdebug.py',\n",
              " 'Mar 18 10:56:51 app-1 sudo:   user1 : TTY=pts/0 ; PWD=/opt/software/web/app ; USER=root ; COMMAND=/usr/bin/vi /opt/software/base/vmscripts/app/django_settings.sh',\n",
              " 'Mar 18 10:56:56 app-1 sudo:   user1 : TTY=pts/0 ; PWD=/opt/software/web/app ; USER=root ; COMMAND=/usr/bin/vi /opt/software/base/vmscripts/app/django_settings.sh',\n",
              " 'Mar 18 10:59:49 app-1 sudo:   user1 : TTY=pts/0 ; PWD=/opt/software/web/app ; USER=root ; COMMAND=/usr/bin/vi /opt/software/base/vmscripts/app/django_settings.sh',\n",
              " 'Mar 18 10:59:54 app-1 sudo:   user1 : TTY=pts/0 ; PWD=/opt/software/web/app ; USER=root ; COMMAND=/usr/bin/vi /opt/software/base/vmscripts/app/django_settings.sh',\n",
              " 'Mar 18 11:01:35 app-1 sudo:   user1 : TTY=pts/0 ; PWD=/opt/software/web/app ; USER=root ; COMMAND=/usr/bin/vi /opt/software/web/app/profile/fixtures/user4.json',\n",
              " 'Mar 18 11:01:49 app-1 sudo:   user1 : TTY=pts/0 ; PWD=/opt/software/web/app ; USER=root ; COMMAND=/usr/bin/vi /opt/software/web/app/profile/fixtures/user3.json',\n",
              " 'Mar 18 11:02:34 app-1 sudo:   user1 : TTY=pts/0 ; PWD=/opt/software/web/app ; USER=root ; COMMAND=/usr/bin/svn commit profile/ -m Customer fixtures dont have an owner now more.',\n",
              " 'Mar 18 11:03:01 app-1 sudo:   user1 : TTY=pts/0 ; PWD=/opt/software/web/app ; USER=root ; COMMAND=/usr/bin/vi /opt/software/web/app/profile/fixtures/user3.json',\n",
              " 'Mar 18 11:04:52 app-1 sudo:   user1 : TTY=pts/0 ; PWD=/opt/software/web/app ; USER=root ; COMMAND=/usr/bin/vi /home/user1/.vimrc',\n",
              " 'Mar 18 11:06:38 app-1 sudo:   user1 : TTY=pts/0 ; PWD=/opt/software/web/app ; USER=root ; COMMAND=/etc/init.d/apache2 start',\n",
              " 'Mar 18 11:06:41 app-1 sudo:   user1 : TTY=pts/0 ; PWD=/opt/software/web/app ; USER=root ; COMMAND=/etc/init.d/apache2 restart',\n",
              " 'Mar 18 11:18:19 app-1 sudo:   user1 : TTY=pts/0 ; PWD=/var/log ; USER=root ; COMMAND=/usr/bin/tail syslog',\n",
              " 'Mar 18 11:20:00 app-1 sudo:   user1 : TTY=pts/0 ; PWD=/var/log ; USER=root ; COMMAND=/usr/sbin/vigr',\n",
              " 'Mar 18 11:20:27 app-1 sudo:   user1 : TTY=pts/0 ; PWD=/var/log ; USER=root ; COMMAND=/bin/su -',\n",
              " 'Mar 18 11:21:02 app-1 sudo:   user1 : TTY=pts/0 ; PWD=/var/log ; USER=root ; COMMAND=/bin/su - user1',\n",
              " 'Mar 18 11:23:07 app-1 sudo:   user1 : TTY=pts/0 ; PWD=/etc/apache2/sites-enabled ; USER=root ; COMMAND=/usr/bin/vi /opt/software/base/vmscripts/app/apache_setup.sh',\n",
              " 'Mar 18 11:23:26 app-1 sudo:   user1 : TTY=pts/0 ; PWD=/etc/apache2/sites-enabled ; USER=root ; COMMAND=/bin/sed -i -e s/domain.com/$DOMAIN/g /etc/apache2/sites-available/www',\n",
              " 'Mar 18 11:23:40 app-1 sudo:   user1 : TTY=pts/0 ; PWD=/etc/apache2/sites-enabled ; USER=root ; COMMAND=/bin/sed -i -e s/domain.com/$DOMAIN/g /etc/apache2/sites-available/www',\n",
              " 'Mar 18 11:23:43 app-1 sudo:   user1 : TTY=pts/0 ; PWD=/etc/apache2/sites-enabled ; USER=root ; COMMAND=/bin/sed -i -e s/domain.com/$DOMAIN/g /etc/apache2/sites-available/app-server',\n",
              " 'Mar 18 11:23:56 app-1 sudo:   user1 : TTY=pts/0 ; PWD=/etc/apache2/sites-enabled ; USER=root ; COMMAND=/etc/init.d/apache2 restart',\n",
              " 'Mar 18 11:24:43 app-1 sudo:   user1 : TTY=pts/0 ; PWD=/etc/apache2/sites-enabled ; USER=root ; COMMAND=/usr/bin/vi /etc/apache2/sites-enabled/001-www',\n",
              " 'Mar 18 11:24:52 app-1 sudo:   user1 : TTY=pts/0 ; PWD=/etc/apache2/sites-enabled ; USER=root ; COMMAND=/usr/bin/vi /etc/apache2/sites-enabled/002-app-server',\n",
              " 'Mar 18 11:25:08 app-1 sudo:   user1 : TTY=pts/0 ; PWD=/etc/apache2/sites-enabled ; USER=root ; COMMAND=/etc/init.d/apache2 restart',\n",
              " 'Mar 18 11:26:22 app-1 sudo:   user1 : TTY=pts/0 ; PWD=/etc/apache2 ; USER=root ; COMMAND=/usr/bin/apt-get install openssl',\n",
              " 'Mar 18 11:26:32 app-1 sudo:   user1 : TTY=pts/0 ; PWD=/etc/apache2 ; USER=root ; COMMAND=/usr/bin/openssl genrsa -des3 -out domain.org.key 2048',\n",
              " 'Mar 18 11:27:11 app-1 sudo:   user1 : TTY=pts/0 ; PWD=/etc/apache2 ; USER=root ; COMMAND=/usr/bin/openssl req -new -key logggly.org.key -out logggly.org.csr',\n",
              " 'Mar 18 11:27:19 app-1 sudo:   user1 : TTY=pts/0 ; PWD=/etc/apache2 ; USER=root ; COMMAND=/usr/bin/openssl req -new -key domain.org.key -out logggly.org.csr',\n",
              " 'Mar 18 11:28:10 app-1 sudo:   user1 : TTY=pts/0 ; PWD=/etc/apache2 ; USER=root ; COMMAND=/bin/cp domain.org.key domain.org.key.org',\n",
              " 'Mar 18 11:28:28 app-1 sudo:   user1 : TTY=pts/0 ; PWD=/etc/apache2 ; USER=root ; COMMAND=/usr/bin/sudo cp domain.org.key domain.org.key.org',\n",
              " 'Mar 18 11:28:28 app-1 sudo:   user1 : TTY=pts/0 ; PWD=/etc/apache2 ; USER=root ; COMMAND=/bin/cp domain.org.key domain.org.key.org',\n",
              " 'Mar 18 11:28:49 app-1 sudo:   user1 : TTY=pts/0 ; PWD=/etc/apache2 ; USER=root ; COMMAND=/usr/bin/openssl x509 -req -days 365 -in domain.org.csr -signkey domain.org.key -out domain.org.crt',\n",
              " 'Mar 18 11:29:09 app-1 sudo:   user1 : TTY=pts/0 ; PWD=/etc/apache2 ; USER=root ; COMMAND=/bin/mv logggly.org.csr domain.org.csr',\n",
              " 'Mar 18 11:29:12 app-1 sudo:   user1 : TTY=pts/0 ; PWD=/etc/apache2 ; USER=root ; COMMAND=/usr/bin/openssl x509 -req -days 365 -in domain.org.csr -signkey domain.org.key -out domain.org.crt',\n",
              " 'Mar 18 11:30:54 app-1 sudo:   user1 : TTY=pts/0 ; PWD=/etc/apache2 ; USER=root ; COMMAND=/usr/bin/openssl rsa -in domain.org.key.org -out domain.org.key',\n",
              " 'Mar 18 11:31:36 app-1 sudo:   user1 : TTY=pts/0 ; PWD=/etc/apache2 ; USER=root ; COMMAND=/usr/bin/openssl x509 -req -days 1365 -in domain.org.csr -signkey domain.org.key -out domain.org.crt',\n",
              " 'Mar 18 11:32:02 app-1 sudo:   user1 : TTY=pts/0 ; PWD=/etc/apache2 ; USER=root ; COMMAND=/etc/init.d/apache2 restart',\n",
              " 'Mar 18 11:33:00 app-1 sudo:   user1 : TTY=pts/0 ; PWD=/etc/apache2 ; USER=root ; COMMAND=/usr/bin/apt-cache search paramiko',\n",
              " 'Mar 18 11:33:27 app-1 sudo:   user1 : TTY=pts/0 ; PWD=/etc/apache2 ; USER=root ; COMMAND=/usr/bin/vi /opt/software/base/vmscripts/app/django_checkout.sh',\n",
              " 'Mar 18 11:33:51 app-1 sudo:   user1 : TTY=pts/0 ; PWD=/etc/apache2 ; USER=root ; COMMAND=/usr/bin/vi /opt/software/base/vmscripts/app/base_setup.sh',\n",
              " 'Mar 18 11:34:08 app-1 sudo:   user1 : TTY=pts/0 ; PWD=/etc/apache2 ; USER=root ; COMMAND=/usr/bin/apt-get install python-mysqldb python-httplib2 python-paramiko -y',\n",
              " 'Mar 18 11:34:47 app-1 sudo:   user1 : TTY=pts/0 ; PWD=/etc/apache2 ; USER=root ; COMMAND=/bin/rm domain.org.key.org',\n",
              " 'Mar 18 11:35:10 app-1 sudo:   user1 : TTY=pts/0 ; PWD=/opt/software/web/config ; USER=root ; COMMAND=/bin/cp /etc/apache2/domain.org.crt /etc/apache2/domain.org.csr /etc/apache2/domain.org.key .',\n",
              " 'Mar 18 11:35:14 app-1 sudo:   user1 : TTY=pts/0 ; PWD=/opt/software/web/config ; USER=root ; COMMAND=/usr/bin/svn add domain.org.crt domain.org.csr domain.org.key',\n",
              " 'Mar 18 11:35:34 app-1 sudo:   user1 : TTY=pts/0 ; PWD=/opt/software/web/config ; USER=root ; COMMAND=/usr/bin/svn commit domain.org.crt domain.org.csr domain.org.key -m Adding domain.org self-signed certs and key',\n",
              " 'Mar 18 11:35:50 app-1 sudo:   user1 : TTY=pts/0 ; PWD=/opt/software/web/config ; USER=root ; COMMAND=/usr/bin/vi /opt/software/base/vmscripts/app/apache_setup.sh',\n",
              " 'Mar 18 11:50:01 app-1 sudo:   user1 : TTY=pts/3 ; PWD=/opt/software/web/app/profile/fixtures ; USER=root ; COMMAND=/usr/bin/vi users.json',\n",
              " 'Mar 18 12:00:17 app-1 sudo:   user1 : TTY=pts/3 ; PWD=/opt/software/web/app/customer/fixtures ; USER=root ; COMMAND=/usr/bin/vi initial_data.json',\n",
              " 'Mar 18 12:02:15 app-1 sudo:   user1 : TTY=pts/3 ; PWD=/opt/software/web/app ; USER=root ; COMMAND=/usr/bin/svn add profile/fixtures/users.json',\n",
              " 'Mar 18 12:15:20 app-1 sudo:     user3 : TTY=pts/1 ; PWD=/etc/apache2 ; USER=root ; COMMAND=/usr/bin/dpkg --configure -a',\n",
              " 'Mar 18 12:16:47 app-1 sudo:   user1 : TTY=pts/3 ; PWD=/opt/software/web/app ; USER=root ; COMMAND=/usr/bin/vi profile/fixtures/initial_data.json',\n",
              " 'Mar 18 14:10:49 app-1 sudo:   user1 : TTY=pts/3 ; PWD=/opt/software/web/app/profile/fixtures ; USER=root ; COMMAND=/bin/cp users.json domain.json',\n",
              " 'Mar 18 14:10:56 app-1 sudo:   user1 : TTY=pts/3 ; PWD=/opt/software/web/app/profile/fixtures ; USER=root ; COMMAND=/usr/bin/svn delete',\n",
              " 'Mar 18 14:10:59 app-1 sudo:   user1 : TTY=pts/3 ; PWD=/opt/software/web/app/profile/fixtures ; USER=root ; COMMAND=/usr/bin/svn delete users.json',\n",
              " 'Mar 18 14:11:05 app-1 sudo:   user1 : TTY=pts/3 ; PWD=/opt/software/web/app/profile/fixtures ; USER=root ; COMMAND=/usr/bin/svn revert users.json',\n",
              " 'Mar 18 14:11:14 app-1 sudo:   user1 : TTY=pts/3 ; PWD=/opt/software/web/app/profile/fixtures ; USER=root ; COMMAND=/bin/rm users.json',\n",
              " 'Mar 18 14:11:17 app-1 sudo:   user1 : TTY=pts/3 ; PWD=/opt/software/web/app/profile/fixtures ; USER=root ; COMMAND=/usr/bin/svn add domain.json',\n",
              " 'Mar 18 14:12:39 app-1 sudo:   user1 : TTY=pts/3 ; PWD=/opt/software/web/app ; USER=root ; COMMAND=/usr/bin/vi customer/fixtures/initial_data.json',\n",
              " 'Mar 18 14:14:09 app-1 sudo:   user1 : TTY=pts/3 ; PWD=/opt/software/web/app ; USER=root ; COMMAND=/etc/init.d/apache2 start',\n",
              " 'Mar 18 14:14:13 app-1 sudo:   user1 : TTY=pts/3 ; PWD=/opt/software/web/app ; USER=root ; COMMAND=/etc/init.d/apache2 stop',\n",
              " 'Mar 18 14:14:15 app-1 sudo:   user1 : TTY=pts/3 ; PWD=/opt/software/web/app ; USER=root ; COMMAND=/etc/init.d/apache2 start',\n",
              " 'Mar 18 14:15:17 app-1 sudo:   user1 : TTY=pts/3 ; PWD=/opt/software/web/app ; USER=root ; COMMAND=/usr/bin/vi /etc/hosts',\n",
              " 'Mar 18 14:16:21 app-1 sudo:   user1 : TTY=pts/3 ; PWD=/opt/software/web/app ; USER=root ; COMMAND=/usr/bin/vi input/models.py',\n",
              " 'Mar 18 14:28:39 app-1 sudo:   user1 : TTY=pts/3 ; PWD=/opt/software/web/app ; USER=root ; COMMAND=/usr/bin/vi profile/fixtures/domain.json',\n",
              " 'Mar 18 14:33:00 app-1 sudo:   user1 : TTY=pts/3 ; PWD=/opt/software/web/app ; USER=root ; COMMAND=/bin/chgrp -R adm api billing customer device __init__.py input invite domain-dev.wsgi domain-prod.wsgi software.wsgi manage.py monitor profile registration repo search settingsdebug.py settingsextra.py settings.py shell signup sites tests.py urls.py views.py',\n",
              " 'Mar 18 14:33:29 app-1 sudo:   user1 : TTY=pts/3 ; PWD=/opt/software/web/app ; USER=root ; COMMAND=/usr/bin/find . -type f -exec chmod 664 {} ;',\n",
              " 'Mar 18 14:37:50 app-1 sudo:   user1 : TTY=pts/3 ; PWD=/opt/software/web/app ; USER=root ; COMMAND=/bin/chmod +x ./manage.py',\n",
              " 'Mar 18 14:40:58 app-1 sudo:   user1 : TTY=pts/3 ; PWD=/opt/software/web ; USER=root ; COMMAND=/bin/chgrp -R adm app config media templates',\n",
              " 'Mar 18 14:41:05 app-1 sudo:   user1 : TTY=pts/3 ; PWD=/opt/software/web ; USER=root ; COMMAND=/usr/bin/find . -type f -exec chmod 664 {} ;',\n",
              " 'Mar 18 14:43:09 app-1 sudo:   user1 : TTY=pts/3 ; PWD=/opt/software/web/app ; USER=root ; COMMAND=/bin/chmod +x ./manage.py',\n",
              " 'Mar 18 14:44:59 app-1 sudo:   user1 : TTY=pts/3 ; PWD=/opt/software/web/config ; USER=root ; COMMAND=/usr/bin/vi /etc/hossts',\n",
              " 'Mar 18 14:45:02 app-1 sudo:   user1 : TTY=pts/3 ; PWD=/opt/software/web/config ; USER=root ; COMMAND=/usr/bin/vi /etc/hosts',\n",
              " 'Mar 18 14:45:28 app-1 sudo:   user1 : TTY=pts/3 ; PWD=/opt/software/web/config ; USER=root ; COMMAND=/etc/init.d/syslog-ng restart',\n",
              " 'Mar 18 15:00:33 app-1 sudo:   user1 : TTY=pts/3 ; PWD=/opt/software/web/app ; USER=root ; COMMAND=/etc/init.d/apache2 restart',\n",
              " 'Mar 18 15:03:39 app-1 sudo:   user1 : TTY=pts/3 ; PWD=/opt/software/web/app ; USER=root ; COMMAND=/usr/bin/vi /opt/software/base/vmscripts/app/django_logging.sh',\n",
              " 'Mar 18 15:04:02 app-1 sudo:   user1 : TTY=pts/3 ; PWD=/opt/software/web/app ; USER=root ; COMMAND=/bin/chown root:adm /var/log/domain',\n",
              " 'Mar 18 15:04:08 app-1 sudo:   user1 : TTY=pts/3 ; PWD=/opt/software/web/app ; USER=root ; COMMAND=/etc/init.d/syslog-ng restart',\n",
              " 'Mar 18 15:09:04 app-1 sudo:   user1 : TTY=pts/3 ; PWD=/etc ; USER=root ; COMMAND=/usr/bin/find . -name syslog*',\n",
              " 'Mar 18 15:20:08 app-1 sudo:   user1 : TTY=pts/3 ; PWD=/opt/software/web/app ; USER=root ; COMMAND=/etc/init.d/apache2 restart',\n",
              " 'Mar 18 15:22:02 app-1 sudo:   user1 : TTY=pts/3 ; PWD=/opt/software/web/app ; USER=root ; COMMAND=/usr/bin/vi /opt/software/base/vmscripts/app/django_checkout.sh',\n",
              " 'Mar 18 15:25:10 app-1 sudo:   user1 : TTY=pts/3 ; PWD=/opt/software/web/app ; USER=root ; COMMAND=/usr/bin/apt-get install patch',\n",
              " 'Mar 18 15:25:49 app-1 sudo:   user1 : TTY=pts/3 ; PWD=/opt/software/web/app ; USER=root ; COMMAND=/usr/bin/vi /opt/software/base/vmscripts/app/base_setup.sh',\n",
              " 'Mar 18 15:27:23 app-1 sudo:   user1 : TTY=pts/3 ; PWD=/opt/software/web/config ; USER=root ; COMMAND=/usr/bin/svn delete django_patch.diff',\n",
              " 'Mar 18 15:27:42 app-1 sudo:   user1 : TTY=pts/3 ; PWD=/opt/software/web/config ; USER=root ; COMMAND=/usr/bin/vi /opt/software/base/vmscripts/app/django_checkout.sh',\n",
              " 'Mar 18 15:33:36 app-1 sudo:   user1 : TTY=pts/3 ; PWD=/opt/software/web/config ; USER=root ; COMMAND=/usr/bin/patch -d /usr/lib/python2.5/site-packages -p1',\n",
              " 'Mar 18 15:33:46 app-1 sudo:   user1 : TTY=pts/3 ; PWD=/opt/software/web/config ; USER=root ; COMMAND=/usr/bin/vi /opt/software/base/vmscripts/app/django_checkout.sh',\n",
              " 'Mar 18 16:06:08 app-1 sudo:   user1 : TTY=pts/3 ; PWD=/opt/software/web/app ; USER=root ; COMMAND=/etc/init.d/apache2 restart',\n",
              " 'Mar 18 16:07:03 app-1 sudo:   user1 : TTY=pts/3 ; PWD=/opt/software/web/app ; USER=root ; COMMAND=/etc/init.d/apache2 stop',\n",
              " 'Mar 18 16:07:06 app-1 sudo:   user1 : TTY=pts/3 ; PWD=/opt/software/web/app ; USER=root ; COMMAND=/etc/init.d/apache2 start',\n",
              " 'Mar 18 16:07:21 app-1 sudo:   user1 : TTY=pts/3 ; PWD=/opt/software/web/app ; USER=root ; COMMAND=/usr/bin/killall -9 apache2',\n",
              " 'Mar 18 16:07:28 app-1 sudo:   user1 : TTY=pts/3 ; PWD=/opt/software/web/app ; USER=root ; COMMAND=/etc/init.d/apache2 restart',\n",
              " 'Mar 18 16:09:02 app-1 sudo:   user1 : TTY=pts/3 ; PWD=/opt/software/web/app ; USER=root ; COMMAND=/usr/bin/svn update',\n",
              " 'Mar 18 16:12:22 app-1 sudo:   user1 : TTY=pts/3 ; PWD=/opt/software/web/app ; USER=root ; COMMAND=/usr/bin/vi input/models.py',\n",
              " 'Mar 18 16:13:09 app-1 sudo:   user1 : TTY=pts/3 ; PWD=/opt/software/web/app ; USER=root ; COMMAND=/usr/bin/vi /etc/hosts',\n",
              " 'Mar 18 16:15:24 app-1 sudo:   user1 : TTY=pts/3 ; PWD=/home/user1 ; USER=root ; COMMAND=/bin/cp -r /root/.vim',\n",
              " 'Mar 18 16:15:26 app-1 sudo:   user1 : TTY=pts/3 ; PWD=/home/user1 ; USER=root ; COMMAND=/bin/cp -r /root/.vim .',\n",
              " 'Mar 18 16:15:40 app-1 sudo:   user1 : TTY=pts/3 ; PWD=/home/user1 ; USER=root ; COMMAND=/bin/chown -R user1:user1 .vim',\n",
              " 'Mar 18 16:15:54 app-1 sudo:   user1 : TTY=pts/3 ; PWD=/home/user1 ; USER=root ; COMMAND=/bin/cat .rnd',\n",
              " 'Mar 18 16:18:08 app-1 sudo:   user1 : TTY=pts/3 ; PWD=/opt/software/web/app ; USER=root ; COMMAND=/usr/bin/svn commit input/models.py -m Updating input manager to work with VM environment',\n",
              " 'Mar 18 16:18:45 app-1 sudo:   user1 : TTY=pts/3 ; PWD=/opt/software/web/app ; USER=root ; COMMAND=/usr/bin/svn commit repo/views.py -m Updating repo view to be more failure resistant and pass repo_space used as MB, not B',\n",
              " 'Mar 18 16:19:25 app-1 sudo:   user1 : TTY=pts/3 ; PWD=/opt/software/web/app ; USER=root ; COMMAND=/usr/bin/svn revert profile/fixtures/user3.json',\n",
              " 'Mar 18 16:19:29 app-1 sudo:   user1 : TTY=pts/3 ; PWD=/opt/software/web/app ; USER=root ; COMMAND=/usr/bin/svn delete profile/fixtures/user3.json',\n",
              " 'Mar 18 16:19:32 app-1 sudo:   user1 : TTY=pts/3 ; PWD=/opt/software/web/app ; USER=root ; COMMAND=/usr/bin/svn delete profile/fixtures/user4.json',\n",
              " 'Mar 18 16:20:00 app-1 sudo:   user1 : TTY=pts/3 ; PWD=/opt/software/web/app ; USER=root ; COMMAND=/usr/bin/svn commit profile/ -m Updating profile fixtures. Removing user3 ones. domain instead.',\n",
              " 'Mar 18 16:20:25 app-1 sudo:   user1 : TTY=pts/3 ; PWD=/opt/software/web/app ; USER=root ; COMMAND=/usr/bin/svn commit customer/ -m Fixing up customer fixture.',\n",
              " 'Mar 18 16:21:49 app-1 sudo:   user1 : TTY=pts/3 ; PWD=/opt/software/web/app ; USER=root ; COMMAND=/usr/bin/svn commit settings.py -m PROXY_SERVER settings should not have an http in front of it',\n",
              " 'Mar 18 16:23:42 app-1 sudo:   user1 : TTY=pts/3 ; PWD=/opt/software/web/app ; USER=root ; COMMAND=/usr/bin/svn commit settingsdebug.py -m Setting DEV to true, Fixing DB password, Adding paramiko logging',\n",
              " 'Mar 18 16:24:58 app-1 sudo:   user1 : TTY=pts/3 ; PWD=/opt/software/web/app ; USER=root ; COMMAND=/usr/bin/svn propedit svn:ignore .',\n",
              " 'Mar 18 16:26:26 app-1 sudo:   user1 : TTY=pts/3 ; PWD=/opt/software/web/app ; USER=root ; COMMAND=/usr/bin/svn propedit svn:ignore .',\n",
              " 'Mar 18 16:27:06 app-1 sudo:   user1 : TTY=pts/3 ; PWD=/opt/software/web/app ; USER=root ; COMMAND=/bin/su -',\n",
              " 'Mar 18 17:00:40 app-1 sudo:   user1 : TTY=pts/3 ; PWD=/opt/software/web/app ; USER=root ; COMMAND=/usr/bin/vi input/models.py',\n",
              " 'Mar 18 17:01:21 app-1 sudo:     user3 : TTY=pts/1 ; PWD=/home/user3 ; USER=root ; COMMAND=/bin/su',\n",
              " 'Mar 18 17:06:40 app-1 sudo:   user1 : TTY=pts/3 ; PWD=/opt/software/web/app ; USER=root ; COMMAND=/etc/init.d/apache2 restart',\n",
              " 'Mar 18 17:23:16 app-1 sudo:   user1 : TTY=pts/3 ; PWD=/opt/software/web/app ; USER=root ; COMMAND=/etc/init.d/apache2 restart',\n",
              " 'Mar 18 17:26:29 app-1 sudo:   user1 : TTY=pts/3 ; PWD=/opt/software/web/app ; USER=root ; COMMAND=/usr/bin/svn commit monitor/ -m Catching socket error if Web request fails',\n",
              " 'Mar 18 17:29:06 app-1 sudo:   user1 : TTY=pts/3 ; PWD=/opt/software/web/app ; USER=root ; COMMAND=/etc/init.d/apache2 restart',\n",
              " 'Mar 18 17:47:13 app-1 sudo:   user1 : TTY=pts/3 ; PWD=/opt/software/web/app ; USER=root ; COMMAND=/usr/bin/vi input/models.py',\n",
              " 'Mar 18 17:59:40 app-1 sudo:   user1 : TTY=pts/3 ; PWD=/opt/software/web/app ; USER=root ; COMMAND=/usr/bin/vi settingsdebug.py',\n",
              " 'Mar 18 18:25:17 app-1 sudo:   user1 : TTY=pts/3 ; PWD=/opt/software/web/app ; USER=root ; COMMAND=/usr/bin/vi input/models.py',\n",
              " 'Mar 18 18:25:45 app-1 sudo:   user1 : TTY=pts/3 ; PWD=/opt/software/web/app ; USER=root ; COMMAND=/usr/bin/svn commit input/ -m Changing URL',\n",
              " 'Mar 18 18:26:11 app-1 sudo:   user1 : TTY=pts/3 ; PWD=/opt/software/web/app ; USER=root ; COMMAND=/usr/bin/svn commit repo/ -m Changing URL',\n",
              " 'Mar 18 18:26:28 app-1 sudo:   user1 : TTY=pts/3 ; PWD=/opt/software/web/app ; USER=root ; COMMAND=/usr/bin/svn commit settingsdebug.py -m API server is at api, not dev',\n",
              " 'Mar 18 18:26:49 app-1 sudo:   user1 : TTY=pts/3 ; PWD=/opt/software/web/app ; USER=root ; COMMAND=/usr/bin/svn commit search/ -m Changing URL',\n",
              " 'Mar 18 18:27:13 app-1 sudo:   user1 : TTY=pts/3 ; PWD=/opt/software/web ; USER=root ; COMMAND=/usr/bin/svn commit app -m Disregard manage.py',\n",
              " 'Mar 18 18:27:33 app-1 sudo:   user1 : TTY=pts/3 ; PWD=/opt/software/web ; USER=root ; COMMAND=/usr/bin/svn commit templates/ -m Minor updates',\n",
              " 'Mar 18 18:27:52 app-1 sudo:   user1 : TTY=pts/3 ; PWD=/opt/software/web ; USER=root ; COMMAND=/usr/bin/svn commit app -m Disregard manage.py',\n",
              " 'Mar 18 18:27:59 app-1 sudo:   user1 : TTY=pts/3 ; PWD=/opt/software/web ; USER=root ; COMMAND=/usr/bin/svn update',\n",
              " 'Mar 18 18:28:03 app-1 sudo:   user1 : TTY=pts/3 ; PWD=/opt/software/web ; USER=root ; COMMAND=/usr/bin/svn commit app -m Disregard manage.py',\n",
              " 'Mar 18 18:28:23 app-1 sudo:   user1 : TTY=pts/3 ; PWD=/opt/software/web ; USER=root ; COMMAND=/usr/bin/svn commit -m Removing django_patch, which was the old django 1.1.1 patch',\n",
              " 'Mar 18 18:29:48 app-1 sudo:   user1 : TTY=pts/3 ; PWD=/opt/software/base/config ; USER=root ; COMMAND=/usr/bin/vi user4/runme.sh',\n",
              " 'Mar 18 18:29:59 app-1 sudo:   user1 : TTY=pts/3 ; PWD=/opt/software/base/config ; USER=root ; COMMAND=/usr/bin/vi user3/runme.sh',\n",
              " 'Mar 18 18:30:14 app-1 sudo:   user1 : TTY=pts/3 ; PWD=/opt/software/base/config ; USER=root ; COMMAND=/usr/bin/svn commit -m User scripts dont need to do this all no moa',\n",
              " 'Mar 22 13:50:05 app-1 sudo:     user3 : TTY=tty1 ; PWD=/home/user3 ; USER=root ; COMMAND=/bin/su',\n",
              " 'Mar 22 21:27:24 app-1 sudo:     user3 : TTY=tty1 ; PWD=/home/user3 ; USER=root ; COMMAND=/bin/su',\n",
              " 'Mar 23 09:18:02 app-1 sudo:     user3 : TTY=pts/0 ; PWD=/home/user3 ; USER=root ; COMMAND=/bin/su',\n",
              " 'Mar 23 09:55:30 app-1 sudo:     user3 : TTY=pts/0 ; PWD=/opt/software/web/app ; USER=root ; COMMAND=/bin/ln -sf /opt/software/web/config/httpd.conf /etc/apache2/httpd.conf',\n",
              " 'Mar 23 09:55:30 app-1 sudo:     user3 : TTY=pts/0 ; PWD=/opt/software/web/app ; USER=root ; COMMAND=/bin/ln -sf /opt/software/web/config/app-server /etc/apache2/sites-available/app-server',\n",
              " 'Mar 23 09:55:31 app-1 sudo:     user3 : TTY=pts/0 ; PWD=/opt/software/web/app ; USER=root ; COMMAND=/bin/ln -sf /opt/software/web/config/default-web /etc/apache2/sites-available/www',\n",
              " 'Mar 23 14:10:51 app-1 sudo:   user1 : TTY=pts/2 ; PWD=/opt/software/web/app/repo ; USER=root ; COMMAND=/etc/init.d/apache2 stop',\n",
              " 'Mar 23 14:11:00 app-1 sudo:   user1 : TTY=pts/2 ; PWD=/opt/software/web/app/repo ; USER=root ; COMMAND=/usr/bin/killall -9 apache2',\n",
              " 'Mar 23 14:11:03 app-1 sudo:   user1 : TTY=pts/2 ; PWD=/opt/software/web/app/repo ; USER=root ; COMMAND=/etc/init.d/apache2 stop',\n",
              " 'Mar 23 14:11:12 app-1 sudo:   user1 : TTY=pts/2 ; PWD=/opt/software/web/app/repo ; USER=root ; COMMAND=/etc/init.d/apache2 start',\n",
              " 'Mar 23 14:22:07 app-1 sudo:   user1 : TTY=pts/1 ; PWD=/opt/software/web/app/sites ; USER=root ; COMMAND=/usr/bin/svn up',\n",
              " 'Mar 24 05:54:10 app-1 sudo:   user1 : TTY=pts/1 ; PWD=/opt/software/web/app ; USER=root ; COMMAND=/usr/bin/tee sites/templatetags/dash.py',\n",
              " 'Mar 24 05:57:21 app-1 sudo:   user1 : TTY=pts/1 ; PWD=/opt/software/web/app ; USER=root ; COMMAND=/etc/init.d/apache2 restart',\n",
              " 'Mar 24 05:58:02 app-1 sudo:   user1 : TTY=pts/1 ; PWD=/opt/software/web/app ; USER=root ; COMMAND=/etc/init.d/apache2 start',\n",
              " 'Mar 24 05:59:35 app-1 sudo:   user1 : TTY=pts/1 ; PWD=/opt/software/web/app ; USER=root ; COMMAND=/usr/bin/tee sites/templatetags/dash.py',\n",
              " 'Mar 24 06:00:11 app-1 sudo:   user1 : TTY=pts/1 ; PWD=/opt/software/web/app ; USER=root ; COMMAND=/usr/bin/tee sites/templatetags/dash.py',\n",
              " 'Mar 24 06:01:07 app-1 sudo:   user1 : TTY=pts/1 ; PWD=/opt/software/web ; USER=root ; COMMAND=/bin/rm config/syslog-ng.confe',\n",
              " 'Mar 24 06:04:12 app-1 sudo:   user1 : TTY=pts/1 ; PWD=/opt/software/web/app ; USER=root ; COMMAND=/usr/bin/tee sites/templatetags/dash.py',\n",
              " 'Mar 24 06:05:01 app-1 sudo:   user1 : TTY=pts/1 ; PWD=/opt/software/web/app ; USER=root ; COMMAND=/usr/bin/tee sites/templatetags/dash.py',\n",
              " 'Mar 24 06:06:36 app-1 sudo:   user1 : TTY=pts/1 ; PWD=/opt/software/web ; USER=root ; COMMAND=/bin/rm config/syslog-ng.confe',\n",
              " 'Mar 24 06:06:41 app-1 sudo:   user1 : TTY=pts/1 ; PWD=/opt/software/web ; USER=root ; COMMAND=/etc/init.d/apache2 stop',\n",
              " 'Mar 24 06:06:46 app-1 sudo:   user1 : TTY=pts/1 ; PWD=/opt/software/web ; USER=root ; COMMAND=/bin/su -',\n",
              " 'Mar 24 06:07:24 app-1 sudo:   user1 : TTY=pts/1 ; PWD=/opt/software/web ; USER=root ; COMMAND=/etc/init.d/apache2 start',\n",
              " 'Mar 24 06:10:05 app-1 sudo:   user1 : TTY=pts/1 ; PWD=/opt/software/web/app ; USER=root ; COMMAND=/usr/bin/tee sites/templatetags/dash.py',\n",
              " 'Mar 24 06:14:03 app-1 sudo:   user1 : TTY=pts/1 ; PWD=/opt/software/web/app ; USER=root ; COMMAND=/usr/bin/tee ../templates/input/input_edit.html',\n",
              " 'Mar 24 06:14:43 app-1 sudo:   user1 : TTY=pts/1 ; PWD=/opt/software/web/app ; USER=root ; COMMAND=/usr/bin/tee ../templates/input/input_edit.html',\n",
              " 'Mar 24 06:17:57 app-1 sudo:   user1 : TTY=pts/1 ; PWD=/opt/software/web/app ; USER=root ; COMMAND=/usr/bin/tee sites/templatetags/dash.py',\n",
              " 'Mar 24 06:22:16 app-1 sudo:   user1 : TTY=pts/1 ; PWD=/opt/software/web/app ; USER=root ; COMMAND=/usr/bin/tee sites/templatetags/dash.py',\n",
              " 'Mar 24 06:33:14 app-1 sudo:   user1 : TTY=pts/1 ; PWD=/opt/software/web/app ; USER=root ; COMMAND=/usr/bin/tee sites/templatetags/dash.py',\n",
              " 'Mar 24 06:35:26 app-1 sudo:   user1 : TTY=pts/1 ; PWD=/opt/software/web ; USER=root ; COMMAND=/bin/su -',\n",
              " 'Mar 24 06:45:06 app-1 sudo:     user3 : TTY=pts/2 ; PWD=/var/www ; USER=root ; COMMAND=/bin/su',\n",
              " 'Mar 24 10:08:19 app-1 sudo:     user3 : TTY=pts/2 ; PWD=/opt/software/base/vmscripts/proxy ; USER=root ; COMMAND=/bin/su',\n",
              " 'Mar 24 21:13:24 app-1 sudo:   user1 : TTY=pts/1 ; PWD=/opt/software/web/app ; USER=root ; COMMAND=/usr/bin/svn commit api search repo -m repo stats now returns number of events also. Includes all the follow on updates to API, etc.',\n",
              " 'Mar 24 21:19:49 app-1 sudo:   user1 : TTY=pts/1 ; PWD=/opt/software/web ; USER=root ; COMMAND=/usr/bin/svn commit app/sites/ -m Adding event count to flow',\n",
              " 'Mar 24 21:20:04 app-1 sudo:   user1 : TTY=pts/1 ; PWD=/opt/software/web ; USER=root ; COMMAND=/usr/bin/svn commit templates/ -m Attempt to make flow',\n",
              " 'Mar 25 11:59:33 app-1 sudo:     user3 : TTY=tty1 ; PWD=/home/user3 ; USER=root ; COMMAND=/bin/su',\n",
              " 'Mar 25 12:11:28 app-1 sudo:     user3 : TTY=pts/0 ; PWD=/home/user3 ; USER=root ; COMMAND=/bin/su',\n",
              " 'Mar 26 14:59:53 app-1 sudo:   user1 : TTY=pts/1 ; PWD=/opt/software/web/app/sites/templatetags ; USER=root ; COMMAND=/usr/bin/svn up',\n",
              " 'Mar 28 20:18:26 app-1 sudo:     user3 : TTY=pts/1 ; PWD=/home/user3 ; USER=root ; COMMAND=/bin/su',\n",
              " 'Mar 28 22:12:49 app-1 sudo:     user3 : TTY=pts/1 ; PWD=/home/www-data/.ssh ; USER=root ; COMMAND=/bin/su',\n",
              " 'Mar 29 13:20:12 app-1 sudo:   user1 : TTY=pts/0 ; PWD=/opt/software/web/app/repo ; USER=root ; COMMAND=/usr/bin/tee views.py',\n",
              " 'Mar 29 13:24:25 app-1 sudo:     user3 : TTY=pts/2 ; PWD=/root/.ssh ; USER=root ; COMMAND=/bin/su',\n",
              " 'Mar 29 13:38:09 app-1 sudo:   user1 : TTY=pts/0 ; PWD=/opt/software/web/app/repo ; USER=root ; COMMAND=/bin/mv /tmp/test ./views.py',\n",
              " 'Mar 29 13:43:09 app-1 sudo:   user1 : TTY=pts/0 ; PWD=/opt/software/web/app/repo ; USER=root ; COMMAND=/etc/init.d/apache2 stop',\n",
              " 'Mar 29 13:43:11 app-1 sudo:   user1 : TTY=pts/0 ; PWD=/opt/software/web/app/repo ; USER=root ; COMMAND=/etc/init.d/apache2 start',\n",
              " 'Mar 29 13:43:15 app-1 sudo:   user1 : TTY=pts/0 ; PWD=/opt/software/web/app/repo ; USER=root ; COMMAND=/etc/init.d/apache2 stop',\n",
              " 'Mar 29 13:43:22 app-1 sudo:   user1 : TTY=pts/0 ; PWD=/opt/software/web/app/repo ; USER=root ; COMMAND=/usr/bin/killall apache2',\n",
              " 'Mar 29 13:43:26 app-1 sudo:   user1 : TTY=pts/0 ; PWD=/opt/software/web/app/repo ; USER=root ; COMMAND=/usr/bin/killall apache2',\n",
              " 'Mar 29 13:43:30 app-1 sudo:   user1 : TTY=pts/0 ; PWD=/opt/software/web/app/repo ; USER=root ; COMMAND=/etc/init.d/apache2 start',\n",
              " 'Mar 29 13:46:54 app-1 sudo:   user1 : TTY=pts/0 ; PWD=/opt/software/web/app/repo ; USER=root ; COMMAND=/etc/init.d/apache2 stop',\n",
              " 'Mar 29 13:46:59 app-1 sudo:   user1 : TTY=pts/0 ; PWD=/opt/software/web/app/repo ; USER=root ; COMMAND=/usr/bin/killall apache2',\n",
              " 'Mar 29 13:47:02 app-1 sudo:   user1 : TTY=pts/0 ; PWD=/opt/software/web/app/repo ; USER=root ; COMMAND=/etc/init.d/apache2 start',\n",
              " 'Mar 29 14:21:36 app-1 sudo:   user1 : TTY=pts/0 ; PWD=/opt/software/web/app ; USER=root ; COMMAND=/usr/bin/tee shell/views.py',\n",
              " 'Mar 29 14:22:21 app-1 sudo:   user1 : TTY=pts/0 ; PWD=/opt/software/web/app ; USER=root ; COMMAND=/usr/bin/tee shell/views.py',\n",
              " 'Mar 29 14:23:23 app-1 sudo:   user1 : TTY=pts/0 ; PWD=/opt/software/web/app ; USER=root ; COMMAND=/usr/bin/tee ../templates/shell/show_repos.js',\n",
              " 'Mar 29 14:24:25 app-1 sudo:   user1 : TTY=pts/0 ; PWD=/opt/software/web/app ; USER=root ; COMMAND=/usr/bin/svn up',\n",
              " 'Mar 29 14:25:26 app-1 sudo:   user1 : TTY=pts/0 ; PWD=/opt/software/web/app/api ; USER=root ; COMMAND=/usr/bin/tee input.py',\n",
              " 'Mar 29 14:26:19 app-1 sudo:   user1 : TTY=pts/0 ; PWD=/opt/software/web/app ; USER=root ; COMMAND=/usr/bin/tee shell/views.py',\n",
              " 'Mar 29 14:26:33 app-1 sudo:   user1 : TTY=pts/0 ; PWD=/opt/software/web/templates/shell ; USER=root ; COMMAND=/bin/rm show_repos.js',\n",
              " 'Mar 29 14:27:22 app-1 sudo:   user1 : TTY=pts/0 ; PWD=/opt/software/web/app ; USER=root ; COMMAND=/usr/bin/svn commit repo/ -m Adding information for single table in repo edit --username user4',\n",
              " 'Mar 29 14:27:43 app-1 sudo:   user1 : TTY=pts/0 ; PWD=/opt/software/web/app ; USER=root ; COMMAND=/usr/bin/svn commit api/ -m Create call needs extra argument --username user4',\n",
              " 'Mar 29 14:28:05 app-1 sudo:   user1 : TTY=pts/0 ; PWD=/opt/software/web/app ; USER=root ; COMMAND=/usr/bin/svn commit shell/ -m Adding show repos and inputs call --username user4',\n",
              " 'Mar 29 14:38:21 app-1 sudo:   user1 : TTY=pts/0 ; PWD=/opt/software/web/app ; USER=root ; COMMAND=/usr/bin/tee signup/views.py',\n",
              " 'Mar 29 14:39:12 app-1 sudo:   user1 : TTY=pts/0 ; PWD=/opt/software/web/app ; USER=root ; COMMAND=/etc/init.d/apache2 stop',\n",
              " 'Mar 29 14:39:16 app-1 sudo:   user1 : TTY=pts/0 ; PWD=/opt/software/web/app ; USER=root ; COMMAND=/etc/init.d/apache2 start',\n",
              " 'Mar 29 14:40:43 app-1 sudo:   user1 : TTY=pts/0 ; PWD=/opt/software/web/app ; USER=root ; COMMAND=/usr/bin/tee signup/views.py',\n",
              " 'Mar 29 14:40:50 app-1 sudo:   user1 : TTY=pts/0 ; PWD=/opt/software/web/app ; USER=root ; COMMAND=/etc/init.d/apache2 stop',\n",
              " 'Mar 29 14:40:52 app-1 sudo:   user1 : TTY=pts/0 ; PWD=/opt/software/web/app ; USER=root ; COMMAND=/etc/init.d/apache2 start',\n",
              " 'Mar 29 14:43:16 app-1 sudo:   user1 : TTY=pts/0 ; PWD=/opt/software/web/app ; USER=root ; COMMAND=/usr/bin/tee signup/views.py',\n",
              " 'Mar 29 14:43:19 app-1 sudo:   user1 : TTY=pts/0 ; PWD=/opt/software/web/app ; USER=root ; COMMAND=/etc/init.d/apache2 stop',\n",
              " 'Mar 29 14:43:26 app-1 sudo:   user1 : TTY=pts/0 ; PWD=/opt/software/web/app ; USER=root ; COMMAND=/usr/bin/killall apache2',\n",
              " 'Mar 29 14:43:30 app-1 sudo:   user1 : TTY=pts/0 ; PWD=/opt/software/web/app ; USER=root ; COMMAND=/etc/init.d/apache2 start',\n",
              " 'Mar 29 14:50:50 app-1 sudo:   user1 : TTY=pts/0 ; PWD=/opt/software/web/app ; USER=root ; COMMAND=/usr/bin/tee repo/models.py',\n",
              " 'Mar 29 15:03:18 app-1 sudo:   user1 : TTY=pts/0 ; PWD=/opt/software/web/app ; USER=root ; COMMAND=/bin/rm /root/.vim/ftplugin/html/zencoding.vim',\n",
              " 'Mar 29 15:04:53 app-1 sudo:   user1 : TTY=pts/0 ; PWD=/opt/software/web/app ; USER=root ; COMMAND=/usr/bin/tee /opt/software/web/app/profile/fixtures/domain.json',\n",
              " 'Mar 29 15:05:08 app-1 sudo:   user1 : TTY=pts/0 ; PWD=/opt/software/web/app ; USER=root ; COMMAND=/usr/bin/svn commit profile/fixtures/ -m user2 is user2, not user3less',\n",
              " 'Mar 29 15:05:29 app-1 sudo:   user1 : TTY=pts/0 ; PWD=/opt/software/web/app ; USER=root ; COMMAND=/usr/bin/svn commit profile/models.py -m username needs to be unique per customer',\n",
              " 'Mar 29 15:06:02 app-1 sudo:   user1 : TTY=pts/0 ; PWD=/opt/software/web/app ; USER=root ; COMMAND=/usr/bin/svn commit repo -m Adding object for flow',\n",
              " 'Mar 29 15:46:07 app-1 sudo:   user1 : TTY=pts/0 ; PWD=/opt/software/web/app ; USER=root ; COMMAND=/usr/bin/tee api/input.py',\n",
              " 'Mar 29 15:46:38 app-1 sudo:   user1 : TTY=pts/0 ; PWD=/opt/software/web/app ; USER=root ; COMMAND=/usr/bin/svn commit api/ -m removing debug',\n",
              " 'Mar 29 17:50:35 app-1 sudo:   user1 : TTY=pts/0 ; PWD=/opt/software/web/app ; USER=root ; COMMAND=/usr/bin/tee customer/fixtures/initial_data.json',\n",
              " 'Mar 29 17:52:10 app-1 sudo:   user1 : TTY=pts/0 ; PWD=/opt/software/web/app ; USER=root ; COMMAND=/usr/sbin/tcpdump -nnl port 80',\n",
              " 'Mar 29 17:52:46 app-1 sudo:   user1 : TTY=pts/0 ; PWD=/opt/software/web/app ; USER=root ; COMMAND=/usr/sbin/tcpdump -Annls 0 port 80',\n",
              " 'Mar 29 23:46:21 app-1 sudo:   user1 : TTY=pts/0 ; PWD=/opt/software/web/templates ; USER=root ; COMMAND=/usr/bin/tee ../media/js/repotable.js',\n",
              " 'Mar 29 23:48:02 app-1 sudo:   user1 : TTY=pts/0 ; PWD=/opt/software/web/app ; USER=root ; COMMAND=/usr/bin/tee ../templates/repo/repo_single_table.html',\n",
              " 'Mar 29 23:50:11 app-1 sudo:   user1 : TTY=pts/0 ; PWD=/opt/software/web/app ; USER=root ; COMMAND=/etc/init.d/apache2 stop',\n",
              " 'Mar 29 23:50:15 app-1 sudo:   user1 : TTY=pts/0 ; PWD=/opt/software/web/app ; USER=root ; COMMAND=/etc/init.d/apache2 stop',\n",
              " 'Mar 29 23:50:19 app-1 sudo:   user1 : TTY=pts/0 ; PWD=/opt/software/web/app ; USER=root ; COMMAND=/usr/bin/killall apache2',\n",
              " 'Mar 29 23:50:23 app-1 sudo:   user1 : TTY=pts/0 ; PWD=/opt/software/web/app ; USER=root ; COMMAND=/usr/bin/killall apache2',\n",
              " 'Mar 29 23:50:26 app-1 sudo:   user1 : TTY=pts/0 ; PWD=/opt/software/web/app ; USER=root ; COMMAND=/etc/init.d/apache2 start',\n",
              " 'Mar 30 13:30:54 app-1 sudo:   user1 : TTY=pts/0 ; PWD=/opt/software/web/app ; USER=root ; COMMAND=/usr/bin/svn up',\n",
              " 'Mar 30 13:30:59 app-1 sudo:   user1 : TTY=pts/0 ; PWD=/opt/software/web ; USER=root ; COMMAND=/usr/bin/svn up',\n",
              " 'Mar 30 14:42:40 app-1 sudo:   user1 : TTY=pts/0 ; PWD=/opt/software/base/config/.vim/ftplugin/html ; USER=root ; COMMAND=/usr/bin/svn up',\n",
              " 'Mar 30 14:44:11 app-1 sudo:   user1 : TTY=pts/0 ; PWD=/opt/software/web/templates ; USER=root ; COMMAND=/usr/bin/wget http://github.com/mattn/zencoding-vim/raw/master/zencoding.vim',\n",
              " 'Mar 30 14:44:30 app-1 sudo:   user1 : TTY=pts/0 ; PWD=/opt/software/web/templates ; USER=root ; COMMAND=/bin/mv zencoding.vim /home/user1/.vim/ftplugin/html/',\n",
              " 'Mar 30 14:46:18 app-1 sudo:   user1 : TTY=pts/0 ; PWD=/opt/software/base/config/.vim/ftplugin/html ; USER=root ; COMMAND=/bin/mv /home/user1/.vim/ftplugin/html/zencoding.vim .',\n",
              " 'Mar 30 14:47:16 app-1 sudo:   user1 : TTY=pts/0 ; PWD=/opt/software/base/config/.vim/ftplugin/html ; USER=root ; COMMAND=/usr/bin/svn commit zencoding.vim -m Real Zen Coding plugin now',\n",
              " 'Mar 30 15:02:53 app-1 sudo:   user1 : TTY=pts/0 ; PWD=/opt/software/web/app/input ; USER=root ; COMMAND=/usr/bin/tee ../api/input.py',\n",
              " 'Mar 30 15:03:11 app-1 sudo:   user1 : TTY=pts/0 ; PWD=/opt/software/web/app/input ; USER=root ; COMMAND=/usr/bin/tee ../api/input.py',\n",
              " 'Mar 30 15:03:18 app-1 sudo:   user1 : TTY=pts/0 ; PWD=/opt/software/web/app/input ; USER=root ; COMMAND=/usr/bin/tee models.py',\n",
              " 'Mar 30 15:03:49 app-1 sudo:   user1 : TTY=pts/0 ; PWD=/opt/software/web/app/input ; USER=root ; COMMAND=/usr/bin/tee models.py',\n",
              " 'Mar 30 15:06:19 app-1 sudo:   user1 : TTY=pts/0 ; PWD=/opt/software/web/app ; USER=root ; COMMAND=/usr/bin/tee repo/models.py',\n",
              " 'Mar 30 15:07:12 app-1 sudo:   user1 : TTY=pts/0 ; PWD=/opt/software/web/app/input ; USER=root ; COMMAND=/usr/bin/tee ../api//repo.py',\n",
              " 'Mar 30 15:10:31 app-1 sudo:   user1 : TTY=pts/0 ; PWD=/opt/software/web/app ; USER=root ; COMMAND=/usr/bin/svn commit customer/fixtures/ -m Adding fixture for app subdomain',\n",
              " 'Mar 30 15:12:04 app-1 sudo:   user1 : TTY=pts/0 ; PWD=/opt/software/web/app ; USER=root ; COMMAND=/usr/bin/svn commit repo/views.py -m Fixing some repo view stats things and adding more info to repo detail page',\n",
              " 'Mar 30 15:13:34 app-1 sudo:   user1 : TTY=pts/0 ; PWD=/opt/software/web/app ; USER=root ; COMMAND=/usr/bin/tee repo/models.py',\n",
              " 'Mar 30 15:15:47 app-1 sudo:   user1 : TTY=pts/0 ; PWD=/opt/software/web/app ; USER=root ; COMMAND=/usr/bin/tee api/input.py',\n",
              " 'Mar 30 15:18:51 app-1 sudo:   user1 : TTY=pts/0 ; PWD=/opt/software/web/app ; USER=root ; COMMAND=/usr/bin/tee api/repo.py',\n",
              " 'Mar 30 15:18:54 app-1 sudo:   user1 : TTY=pts/0 ; PWD=/opt/software/web/app ; USER=root ; COMMAND=/usr/bin/tee api/input.py',\n",
              " 'Mar 30 15:19:28 app-1 sudo:   user1 : TTY=pts/0 ; PWD=/opt/software/web/app ; USER=root ; COMMAND=/usr/bin/svn commit input repo/ api -m Adding permission',\n",
              " 'Apr  1 16:23:10 app-1 sudo:     user3 : TTY=pts/0 ; PWD=/home/user3 ; USER=root ; COMMAND=/bin/su',\n",
              " 'Apr  1 17:50:23 app-1 sudo:     user3 : TTY=tty1 ; PWD=/home/user3 ; USER=root ; COMMAND=/bin/su',\n",
              " 'Apr  2 05:52:50 app-1 sudo:     user3 : TTY=pts/0 ; PWD=/home/user3 ; USER=root ; COMMAND=/bin/su',\n",
              " 'Apr  2 07:31:43 app-1 sudo:   user1 : TTY=pts/1 ; PWD=/opt/software/web/app ; USER=root ; COMMAND=/usr/bin/tee api/repo.py',\n",
              " 'Apr  2 07:37:36 app-1 sudo:   user1 : TTY=pts/1 ; PWD=/opt/software/web/app ; USER=root ; COMMAND=/etc/init.d/apache2 stop',\n",
              " 'Apr  2 07:37:45 app-1 sudo:   user1 : TTY=pts/1 ; PWD=/opt/software/web/app ; USER=root ; COMMAND=/usr/bin/killall apache2',\n",
              " 'Apr  2 07:37:51 app-1 sudo:   user1 : TTY=pts/1 ; PWD=/opt/software/web/app ; USER=root ; COMMAND=/usr/bin/killall apache2',\n",
              " 'Apr  2 07:37:53 app-1 sudo:   user1 : TTY=pts/1 ; PWD=/opt/software/web/app ; USER=root ; COMMAND=/usr/bin/killall -9apache2',\n",
              " 'Apr  2 07:37:56 app-1 sudo:   user1 : TTY=pts/1 ; PWD=/opt/software/web/app ; USER=root ; COMMAND=/usr/bin/killall -9 apache2',\n",
              " 'Apr  2 07:38:00 app-1 sudo:   user1 : TTY=pts/1 ; PWD=/opt/software/web/app ; USER=root ; COMMAND=/etc/init.d/apache2 start',\n",
              " 'Apr  2 07:39:59 app-1 sudo:   user1 : TTY=pts/1 ; PWD=/opt/software/web/app ; USER=root ; COMMAND=/usr/bin/tee api/repo.py',\n",
              " 'Apr  2 07:41:13 app-1 sudo:   user1 : TTY=pts/1 ; PWD=/opt/software/web/app ; USER=root ; COMMAND=/usr/bin/svn commit api/repo.py -m Super returns a None on success, for whatever reason. Resolves: #624',\n",
              " 'Apr  2 07:50:52 app-1 sudo:   user1 : TTY=pts/1 ; PWD=/opt/software/web/app ; USER=root ; COMMAND=/usr/bin/tee signup/views.py',\n",
              " 'Apr  2 07:51:16 app-1 sudo:   user1 : TTY=pts/1 ; PWD=/opt/software/web/app ; USER=root ; COMMAND=/usr/bin/svn commit signup/ -m Making domain dynamic',\n",
              " 'Apr  2 07:52:46 app-1 sudo:   user1 : TTY=pts/1 ; PWD=/opt/software/web/app ; USER=root ; COMMAND=/usr/bin/tee ../templates/input/input_edit.html',\n",
              " 'Apr  2 07:53:03 app-1 sudo:   user1 : TTY=pts/1 ; PWD=/opt/software/web/app ; USER=root ; COMMAND=/usr/bin/svn commit ../templates/ -m Unnecessary </a>',\n",
              " 'Apr  2 07:56:23 app-1 sudo:   user1 : TTY=pts/1 ; PWD=/opt/software/web/app ; USER=root ; COMMAND=/usr/bin/tee shell/views.py',\n",
              " 'Apr  2 07:56:36 app-1 sudo:   user1 : TTY=pts/1 ; PWD=/opt/software/web/app ; USER=root ; COMMAND=/etc/init.d/apache2 stop',\n",
              " 'Apr  2 07:56:41 app-1 sudo:   user1 : TTY=pts/1 ; PWD=/opt/software/web/app ; USER=root ; COMMAND=/usr/bin/killall -9 apache2',\n",
              " 'Apr  2 07:56:43 app-1 sudo:   user1 : TTY=pts/1 ; PWD=/opt/software/web/app ; USER=root ; COMMAND=/etc/init.d/apache2 start',\n",
              " 'Apr  2 07:58:58 app-1 sudo:   user1 : TTY=pts/1 ; PWD=/opt/software/web/app ; USER=root ; COMMAND=/usr/bin/tee shell/views.py',\n",
              " 'Apr  2 08:00:17 app-1 sudo:   user1 : TTY=pts/1 ; PWD=/opt/software/web/app ; USER=root ; COMMAND=/usr/bin/tee shell/views.py',\n",
              " 'Apr  2 08:00:50 app-1 sudo:   user1 : TTY=pts/1 ; PWD=/opt/software/web/app ; USER=root ; COMMAND=/etc/init.d/apache2 stop',\n",
              " 'Apr  2 08:00:56 app-1 sudo:   user1 : TTY=pts/1 ; PWD=/opt/software/web/app ; USER=root ; COMMAND=/usr/bin/killall -9 apache2',\n",
              " 'Apr  2 08:00:57 app-1 sudo:   user1 : TTY=pts/1 ; PWD=/opt/software/web/app ; USER=root ; COMMAND=/usr/bin/killall -9 apache2',\n",
              " 'Apr  2 08:00:58 app-1 sudo:   user1 : TTY=pts/1 ; PWD=/opt/software/web/app ; USER=root ; COMMAND=/etc/init.d/apache2 stop',\n",
              " 'Apr  2 08:01:06 app-1 sudo:   user1 : TTY=pts/1 ; PWD=/opt/software/web/app ; USER=root ; COMMAND=/etc/init.d/apache2 start',\n",
              " 'Apr  2 08:06:19 app-1 sudo:   user1 : TTY=pts/1 ; PWD=/opt/software/web/app ; USER=root ; COMMAND=/usr/bin/tee shell/views.py',\n",
              " 'Apr  2 12:42:52 app-1 sudo:   user1 : TTY=pts/0 ; PWD=/opt/software/web/app ; USER=root ; COMMAND=/usr/bin/svn commit -m Start of fixing compare command',\n",
              " 'Apr 14 14:47:40 app-1 sudo:   user1 : TTY=pts/0 ; PWD=/opt/software/web ; USER=root ; COMMAND=/usr/bin/svn up',\n",
              " 'Apr 14 14:56:08 app-1 sudo:   user1 : TTY=pts/0 ; PWD=/opt/software/web/app ; USER=root ; COMMAND=/usr/bin/tee monitor/middleware.py',\n",
              " 'Apr 14 14:56:54 app-1 sudo:   user1 : TTY=pts/0 ; PWD=/opt/software/web/app ; USER=root ; COMMAND=/usr/bin/tee monitor/middleware.py',\n",
              " 'Apr 14 15:02:20 app-1 sudo:   user1 : TTY=pts/0 ; PWD=/opt/software/web/app ; USER=root ; COMMAND=/usr/sbin/tcpdump -Annls 0 port 80',\n",
              " 'Apr 14 15:02:57 app-1 sudo:   user1 : TTY=pts/0 ; PWD=/opt/software/web/app ; USER=root ; COMMAND=/etc/init.d/apache2 stop',\n",
              " 'Apr 14 15:03:00 app-1 sudo:   user1 : TTY=pts/0 ; PWD=/opt/software/web/app ; USER=root ; COMMAND=/usr/bin/killall -9 apache2',\n",
              " 'Apr 14 15:03:01 app-1 sudo:   user1 : TTY=pts/0 ; PWD=/opt/software/web/app ; USER=root ; COMMAND=/etc/init.d/apache2 start',\n",
              " 'Apr 14 15:03:05 app-1 sudo:   user1 : TTY=pts/0 ; PWD=/opt/software/web/app ; USER=root ; COMMAND=/usr/sbin/tcpdump -Annls 0 port 80',\n",
              " 'Apr 14 15:05:06 app-1 sudo:   user1 : TTY=pts/0 ; PWD=/opt/software/web/app ; USER=root ; COMMAND=/usr/bin/tee monitor/middleware.py',\n",
              " 'Apr 14 15:06:31 app-1 sudo:   user1 : TTY=pts/0 ; PWD=/opt/software/web/app ; USER=root ; COMMAND=/etc/init.d/apache2 stop',\n",
              " 'Apr 14 15:06:38 app-1 sudo:   user1 : TTY=pts/0 ; PWD=/opt/software/web/app ; USER=root ; COMMAND=/etc/init.d/apache2 start',\n",
              " 'Apr 14 15:07:56 app-1 sudo:   user1 : TTY=pts/0 ; PWD=/opt/software/web/app ; USER=root ; COMMAND=/usr/bin/tee settings.py',\n",
              " 'Apr 14 15:08:22 app-1 sudo:   user1 : TTY=pts/0 ; PWD=/opt/software/web/app ; USER=root ; COMMAND=/usr/bin/tee monitor/middleware.py',\n",
              " 'Apr 14 15:09:25 app-1 sudo:   user1 : TTY=pts/0 ; PWD=/opt/software/web/app ; USER=root ; COMMAND=/usr/bin/tee monitor/middleware.py',\n",
              " 'Apr 14 15:09:58 app-1 sudo:   user1 : TTY=pts/0 ; PWD=/opt/software/web/app ; USER=root ; COMMAND=/usr/bin/tee monitor/middleware.py',\n",
              " 'Apr 14 15:10:12 app-1 sudo:     user3 : TTY=pts/1 ; PWD=/home/user3 ; USER=root ; COMMAND=/bin/su',\n",
              " 'Apr 14 15:10:15 app-1 sudo:   user1 : TTY=pts/0 ; PWD=/opt/software/web/app ; USER=root ; COMMAND=/usr/bin/tee monitor/middleware.py',\n",
              " 'Apr 14 15:12:36 app-1 sudo:   user1 : TTY=pts/0 ; PWD=/opt/software/web/app ; USER=root ; COMMAND=/usr/bin/apt-get update',\n",
              " 'Apr 14 15:12:42 app-1 sudo:   user1 : TTY=pts/0 ; PWD=/opt/software/web/app ; USER=root ; COMMAND=/usr/bin/apt-get upgrade',\n",
              " 'Apr 14 15:19:46 app-1 sudo:   user1 : TTY=pts/0 ; PWD=/opt/software/base/config ; USER=root ; COMMAND=/usr/bin/tee http_only.patch',\n",
              " 'Apr 14 15:20:27 app-1 sudo:   user1 : TTY=pts/0 ; PWD=/opt/software/base/config ; USER=root ; COMMAND=/usr/bin/patch -p0 -d /usr/lib/python2.5',\n",
              " 'Apr 14 15:20:49 app-1 sudo:   user1 : TTY=pts/0 ; PWD=/opt/software/base/config ; USER=root ; COMMAND=/usr/bin/tee http_only.patch',\n",
              " 'Apr 14 15:20:55 app-1 sudo:   user1 : TTY=pts/0 ; PWD=/opt/software/base/config ; USER=root ; COMMAND=/usr/bin/patch -p0',\n",
              " 'Apr 14 15:21:17 app-1 sudo:   user1 : TTY=pts/0 ; PWD=/opt/software/base/config ; USER=root ; COMMAND=/usr/bin/svn add http_only.patch -m Adding http_only patch to python!',\n",
              " 'Apr 14 15:21:32 app-1 sudo:   user1 : TTY=pts/0 ; PWD=/opt/software/base/config ; USER=root ; COMMAND=/usr/bin/svn add http_only.patch',\n",
              " 'Apr 14 15:21:35 app-1 sudo:   user1 : TTY=pts/0 ; PWD=/opt/software/base/config ; USER=root ; COMMAND=/usr/bin/svn commit http_only.patch -m Adding http_only patch to python!',\n",
              " 'Apr 14 15:37:00 app-1 sudo:   user1 : TTY=pts/0 ; PWD=/opt/software/base/config ; USER=root ; COMMAND=/usr/bin/tee http_only.patch',\n",
              " 'Apr 14 15:52:20 app-1 sudo:   user1 : TTY=pts/0 ; PWD=/opt/software/web/app ; USER=root ; COMMAND=/usr/bin/svn commit -m Adding httponly cookie code. Resolves: #658',\n",
              " 'Apr 14 16:34:09 app-1 sudo:   user1 : TTY=pts/0 ; PWD=/opt/software/web ; USER=root ; COMMAND=/usr/bin/tee templates/proxy/domain-ng.conf',\n",
              " 'Apr 15 12:27:07 app-1 sudo:   user1 : TTY=pts/0 ; PWD=/opt/software/web/app ; USER=root ; COMMAND=/usr/bin/tee ../templates/proxy/domain-ng.conf',\n",
              " 'Apr 15 12:49:09 app-1 sudo:   user1 : TTY=pts/0 ; PWD=/opt/software/web/app ; USER=root ; COMMAND=/usr/bin/tee ../templates/proxy/iptables.conf',\n",
              " 'Apr 15 14:49:07 app-1 sudo:   user1 : TTY=pts/2 ; PWD=/home/user1 ; USER=root ; COMMAND=/etc/init.d/apache2 stop',\n",
              " 'Apr 15 14:49:16 app-1 sudo:   user1 : TTY=pts/2 ; PWD=/home/user1 ; USER=root ; COMMAND=/etc/init.d/apache2 start',\n",
              " 'Apr 15 14:51:32 app-1 sudo:   user1 : TTY=pts/1 ; PWD=/opt/software/web/app ; USER=root ; COMMAND=/usr/bin/tee manage.py',\n",
              " 'Apr 15 14:53:21 app-1 sudo:   user1 : TTY=pts/1 ; PWD=/opt/software/web/app ; USER=root ; COMMAND=/etc/init.d/apache2 stop',\n",
              " 'Apr 15 14:53:24 app-1 sudo:   user1 : TTY=pts/1 ; PWD=/opt/software/web/app ; USER=root ; COMMAND=/usr/bin/killall -9 apache2',\n",
              " 'Apr 15 14:53:25 app-1 sudo:   user1 : TTY=pts/1 ; PWD=/opt/software/web/app ; USER=root ; COMMAND=/etc/init.d/apache2 start',\n",
              " 'Apr 15 15:02:52 app-1 sudo:   user1 : TTY=pts/1 ; PWD=/opt/software/web/app ; USER=root ; COMMAND=/usr/bin/tee /etc/hosts',\n",
              " 'Apr 15 15:05:21 app-1 sudo:   user1 : TTY=pts/1 ; PWD=/opt/software/web/app ; USER=root ; COMMAND=/etc/init.d/apache2 stop',\n",
              " 'Apr 15 15:05:23 app-1 sudo:   user1 : TTY=pts/1 ; PWD=/opt/software/web/app ; USER=root ; COMMAND=/etc/init.d/apache2 start',\n",
              " 'Apr 15 15:06:13 app-1 sudo:   user1 : TTY=pts/1 ; PWD=/opt/software/web/app ; USER=root ; COMMAND=/usr/bin/tee ../templates/proxy/iptables.conf',\n",
              " 'Apr 15 15:17:45 app-1 sudo:   user1 : TTY=pts/1 ; PWD=/opt/software/web/app ; USER=root ; COMMAND=/usr/bin/tee ../templates/proxy/iptables.conf',\n",
              " 'Apr 15 15:18:23 app-1 sudo:   user1 : TTY=pts/1 ; PWD=/opt/software/web/app ; USER=root ; COMMAND=/usr/bin/tee ../templates/proxy/iptables.conf',\n",
              " 'Apr 15 15:34:28 app-1 sudo:   user1 : TTY=pts/1 ; PWD=/opt/software/web/app ; USER=root ; COMMAND=/usr/bin/tee ../templates/input/input_edit.html',\n",
              " 'Apr 15 15:36:43 app-1 sudo:   user1 : TTY=pts/1 ; PWD=/opt/software/web/app ; USER=root ; COMMAND=/usr/bin/tee input/views.py',\n",
              " 'Apr 15 15:36:55 app-1 sudo:   user1 : TTY=pts/1 ; PWD=/opt/software/web/app ; USER=root ; COMMAND=/etc/init.d/apache2 stop',\n",
              " 'Apr 15 15:36:57 app-1 sudo:   user1 : TTY=pts/1 ; PWD=/opt/software/web/app ; USER=root ; COMMAND=/etc/init.d/apache2 start',\n",
              " 'Apr 15 15:37:18 app-1 sudo:   user1 : TTY=pts/1 ; PWD=/opt/software/web/app ; USER=root ; COMMAND=/usr/bin/tee input/views.py',\n",
              " 'Apr 15 15:37:39 app-1 sudo:   user1 : TTY=pts/1 ; PWD=/opt/software/web/app ; USER=root ; COMMAND=/etc/init.d/apache2 stop',\n",
              " 'Apr 15 15:37:41 app-1 sudo:   user1 : TTY=pts/1 ; PWD=/opt/software/web/app ; USER=root ; COMMAND=/usr/bin/killall -9 apache2',\n",
              " 'Apr 15 15:37:43 app-1 sudo:   user1 : TTY=pts/1 ; PWD=/opt/software/web/app ; USER=root ; COMMAND=/etc/init.d/apache2 start',\n",
              " 'Apr 15 15:38:13 app-1 sudo:   user1 : TTY=pts/1 ; PWD=/opt/software/web/app ; USER=root ; COMMAND=/usr/bin/tee input/views.py',\n",
              " 'Apr 15 15:39:14 app-1 sudo:   user1 : TTY=pts/1 ; PWD=/opt/software/web/app ; USER=root ; COMMAND=/usr/bin/tee input/views.py',\n",
              " 'Apr 15 19:53:24 app-1 sudo:   user1 : TTY=pts/0 ; PWD=/opt/software/web/app ; USER=root ; COMMAND=/usr/bin/tee input/views.py',\n",
              " 'Apr 15 19:55:33 app-1 sudo:   user1 : TTY=pts/0 ; PWD=/opt/software/web/app ; USER=root ; COMMAND=/etc/init.d/apache2 stop',\n",
              " 'Apr 15 19:55:35 app-1 sudo:   user1 : TTY=pts/0 ; PWD=/opt/software/web/app ; USER=root ; COMMAND=/usr/bin/killall -9 apache2',\n",
              " 'Apr 15 19:55:36 app-1 sudo:   user1 : TTY=pts/0 ; PWD=/opt/software/web/app ; USER=root ; COMMAND=/etc/init.d/apache2 start',\n",
              " 'Apr 15 19:56:15 app-1 sudo:   user1 : TTY=pts/0 ; PWD=/opt/software/web/app ; USER=root ; COMMAND=/usr/bin/tee input/views.py',\n",
              " 'Apr 15 19:56:50 app-1 sudo:   user1 : TTY=pts/0 ; PWD=/opt/software/web/app ; USER=root ; COMMAND=/usr/bin/tee input/views.py',\n",
              " 'Apr 15 20:01:04 app-1 sudo:   user1 : TTY=pts/0 ; PWD=/opt/software/web/app ; USER=root ; COMMAND=/usr/bin/tee ../templates/input/input_edit.html',\n",
              " 'Apr 15 20:01:30 app-1 sudo:   user1 : TTY=pts/0 ; PWD=/opt/software/web/app ; USER=root ; COMMAND=/usr/bin/tee ../templates/input/input_edit.html',\n",
              " 'Apr 15 20:01:38 app-1 sudo:   user1 : TTY=pts/0 ; PWD=/opt/software/web/app ; USER=root ; COMMAND=/usr/bin/tee ../templates/input/input_edit.html',\n",
              " 'Apr 15 20:03:04 app-1 sudo:   user1 : TTY=pts/0 ; PWD=/opt/software/web/app ; USER=root ; COMMAND=/usr/bin/tee input/views.py',\n",
              " 'Apr 15 20:03:26 app-1 sudo:   user1 : TTY=pts/0 ; PWD=/opt/software/web/app ; USER=root ; COMMAND=/usr/bin/tee ../templates/input/input_edit.html',\n",
              " 'Apr 15 20:04:00 app-1 sudo:   user1 : TTY=pts/0 ; PWD=/opt/software/web/app ; USER=root ; COMMAND=/usr/bin/tee ../templates/input/input_edit.html',\n",
              " 'Apr 15 20:04:35 app-1 sudo:   user1 : TTY=pts/0 ; PWD=/opt/software/web/app ; USER=root ; COMMAND=/usr/bin/tee ../templates/input/input_edit.html',\n",
              " 'Apr 15 20:06:06 app-1 sudo:   user1 : TTY=pts/0 ; PWD=/opt/software/web/app ; USER=root ; COMMAND=/usr/bin/tee api/urls.py',\n",
              " 'Apr 15 20:09:02 app-1 sudo:   user1 : TTY=pts/0 ; PWD=/opt/software/web/app ; USER=root ; COMMAND=/usr/bin/tee api/input.py',\n",
              " 'Apr 15 20:09:55 app-1 sudo:   user1 : TTY=pts/0 ; PWD=/opt/software/web/app ; USER=root ; COMMAND=/usr/bin/tee ../templates/input/input_edit.html',\n",
              " 'Apr 15 20:10:09 app-1 sudo:   user1 : TTY=pts/0 ; PWD=/opt/software/web/app ; USER=root ; COMMAND=/etc/init.d/apache2 stop',\n",
              " 'Apr 15 20:10:11 app-1 sudo:   user1 : TTY=pts/0 ; PWD=/opt/software/web/app ; USER=root ; COMMAND=/usr/bin/killall -9 apache2',\n",
              " 'Apr 15 20:10:12 app-1 sudo:   user1 : TTY=pts/0 ; PWD=/opt/software/web/app ; USER=root ; COMMAND=/etc/init.d/apache2 start',\n",
              " 'Apr 15 20:11:22 app-1 sudo:   user1 : TTY=pts/0 ; PWD=/opt/software/web/app ; USER=root ; COMMAND=/usr/bin/tee api/input.py',\n",
              " 'Apr 15 20:13:31 app-1 sudo:   user1 : TTY=pts/0 ; PWD=/opt/software/web/app ; USER=root ; COMMAND=/usr/bin/tee ../templates/input/input_edit.html',\n",
              " 'Apr 15 20:14:04 app-1 sudo:   user1 : TTY=pts/0 ; PWD=/opt/software/web/app ; USER=root ; COMMAND=/usr/bin/tee ../templates/input/input_edit.html',\n",
              " 'Apr 15 20:15:21 app-1 sudo:   user1 : TTY=pts/0 ; PWD=/opt/software/web/app ; USER=root ; COMMAND=/usr/bin/tee api/input.py',\n",
              " 'Apr 15 20:15:56 app-1 sudo:   user1 : TTY=pts/0 ; PWD=/opt/software/web/app ; USER=root ; COMMAND=/usr/bin/tee input/views.py',\n",
              " 'Apr 15 20:16:10 app-1 sudo:   user1 : TTY=pts/0 ; PWD=/opt/software/web/app ; USER=root ; COMMAND=/etc/init.d/apache2 stop',\n",
              " 'Apr 15 20:16:12 app-1 sudo:   user1 : TTY=pts/0 ; PWD=/opt/software/web/app ; USER=root ; COMMAND=/usr/bin/killall -9 apache2',\n",
              " 'Apr 15 20:16:13 app-1 sudo:   user1 : TTY=pts/0 ; PWD=/opt/software/web/app ; USER=root ; COMMAND=/etc/init.d/apache2 start',\n",
              " 'Apr 15 20:23:28 app-1 sudo:   user1 : TTY=pts/1 ; PWD=/opt/software/web/app ; USER=root ; COMMAND=/usr/bin/tee ../templates/input/input_edit.html',\n",
              " 'Apr 15 20:36:23 app-1 sudo:   user1 : TTY=pts/2 ; PWD=/opt/software/web/app ; USER=root ; COMMAND=/etc/init.d/apache2 stop',\n",
              " 'Apr 15 20:36:25 app-1 sudo:   user1 : TTY=pts/2 ; PWD=/opt/software/web/app ; USER=root ; COMMAND=/usr/bin/killall -9 apache2',\n",
              " 'Apr 15 20:36:26 app-1 sudo:   user1 : TTY=pts/2 ; PWD=/opt/software/web/app ; USER=root ; COMMAND=/etc/init.d/apache2 start',\n",
              " 'Apr 15 20:47:52 app-1 sudo:   user1 : TTY=pts/2 ; PWD=/opt/software/web/app ; USER=root ; COMMAND=/etc/init.d/apache2 stop',\n",
              " 'Apr 15 20:47:54 app-1 sudo:   user1 : TTY=pts/2 ; PWD=/opt/software/web/app ; USER=root ; COMMAND=/usr/bin/killall -9 apache2',\n",
              " 'Apr 15 20:47:55 app-1 sudo:   user1 : TTY=pts/2 ; PWD=/opt/software/web/app ; USER=root ; COMMAND=/etc/init.d/apache2 start',\n",
              " 'Apr 16 09:37:11 app-1 sudo:   user1 : TTY=pts/0 ; PWD=/opt/software/web ; USER=root ; COMMAND=/usr/bin/svn commit templates/ app/api/urls.py app/api/proxy.py app/api/input.py app/device app/input/',\n",
              " 'Apr 16 09:38:22 app-1 sudo:   user1 : TTY=pts/0 ; PWD=/opt/software/base/config ; USER=root ; COMMAND=/usr/bin/svn commit http_only.patch -m Adding http_only patch for cookies',\n",
              " 'Apr 16 09:39:02 app-1 sudo:     user3 : TTY=tty1 ; PWD=/home/user3 ; USER=root ; COMMAND=/bin/su',\n",
              " 'Apr 18 18:06:43 app-1 sudo:     user3 : TTY=tty1 ; PWD=/home/user3 ; USER=root ; COMMAND=/bin/su',\n",
              " 'Apr 18 18:08:55 app-1 sudo:     user3 : TTY=pts/0 ; PWD=/home/user3 ; USER=root ; COMMAND=/bin/su',\n",
              " 'Apr 18 20:35:41 app-1 sudo:     user3 : TTY=pts/0 ; PWD=/home/user3 ; USER=root ; COMMAND=/bin/su',\n",
              " 'Apr 19 10:47:57 app-1 sudo:   user1 : TTY=pts/2 ; PWD=/opt/software/web/app ; USER=root ; COMMAND=/usr/bin/tee api/input.py',\n",
              " 'Apr 19 10:58:15 app-1 sudo:   user1 : TTY=pts/2 ; PWD=/opt/software/web/app ; USER=root ; COMMAND=/usr/bin/svn up',\n",
              " 'Apr 19 10:58:21 app-1 sudo:   user1 : TTY=pts/2 ; PWD=/opt/software/web ; USER=root ; COMMAND=/usr/bin/svn up',\n",
              " 'Apr 19 10:58:31 app-1 sudo:   user1 : TTY=pts/2 ; PWD=/opt/software/base ; USER=root ; COMMAND=/usr/bin/svn up',\n",
              " 'Apr 19 10:58:52 app-1 sudo:   user1 : TTY=pts/2 ; PWD=/opt/software/base ; USER=root ; COMMAND=/bin/rm -rf vmscripts/',\n",
              " 'Apr 19 10:58:54 app-1 sudo:   user1 : TTY=pts/2 ; PWD=/opt/software/base ; USER=root ; COMMAND=/usr/bin/svn up',\n",
              " 'Apr 19 11:41:06 app-1 sudo:   user1 : TTY=pts/2 ; PWD=/opt/software/web/app ; USER=root ; COMMAND=/usr/bin/apt-get install celery',\n",
              " 'Apr 19 11:59:20 app-1 sudo:   user1 : TTY=pts/2 ; PWD=/opt/software/web/app ; USER=root ; COMMAND=/usr/bin/apt-get install pytz',\n",
              " 'Apr 19 11:59:25 app-1 sudo:   user1 : TTY=pts/2 ; PWD=/opt/software/web/app ; USER=root ; COMMAND=/usr/bin/apt-get install python-pytz',\n",
              " 'Apr 19 12:00:13 app-1 sudo:   user1 : TTY=pts/2 ; PWD=/opt/software/base/vmscripts/app ; USER=root ; COMMAND=/usr/bin/apt-get install python-tz',\n",
              " 'Apr 19 12:01:33 app-1 sudo:   user1 : TTY=pts/2 ; PWD=/opt/software/base/vmscripts/app ; USER=root ; COMMAND=/usr/bin/apt-cache search dateutil',\n",
              " 'Apr 19 12:01:42 app-1 sudo:   user1 : TTY=pts/2 ; PWD=/opt/software/base/vmscripts/app ; USER=root ; COMMAND=/usr/bin/apt-get install python-dateutil',\n",
              " 'Apr 19 12:04:23 app-1 sudo:   user1 : TTY=pts/2 ; PWD=/opt/software/base/vmscripts/app ; USER=root ; COMMAND=/usr/bin/tee base_setup.sh',\n",
              " 'Apr 19 12:05:36 app-1 sudo:   user1 : TTY=pts/2 ; PWD=/opt/software/base/vmscripts/app ; USER=root ; COMMAND=/etc/init.d/apache2 stop',\n",
              " 'Apr 19 12:05:41 app-1 sudo:   user1 : TTY=pts/2 ; PWD=/opt/software/base/vmscripts/app ; USER=root ; COMMAND=/usr/bin/killall -9 apache2',\n",
              " 'Apr 19 12:05:43 app-1 sudo:   user1 : TTY=pts/2 ; PWD=/opt/software/base/vmscripts/app ; USER=root ; COMMAND=/etc/init.d/apache2 start',\n",
              " 'Apr 19 12:06:33 app-1 sudo:   user1 : TTY=pts/2 ; PWD=/opt/software/web/app ; USER=root ; COMMAND=/usr/bin/tee profile/models.py',\n",
              " 'Apr 19 12:08:12 app-1 sudo:   user1 : TTY=pts/2 ; PWD=/opt/software/web/app ; USER=root ; COMMAND=/usr/bin/tee profile/models.py',\n",
              " 'Apr 19 12:08:15 app-1 sudo:   user1 : TTY=pts/2 ; PWD=/opt/software/web/app ; USER=root ; COMMAND=/usr/bin/tee search/models.py',\n",
              " 'Apr 19 12:08:29 app-1 sudo:   user1 : TTY=pts/2 ; PWD=/opt/software/web/app ; USER=root ; COMMAND=/etc/init.d/apache2 stop',\n",
              " 'Apr 19 12:08:31 app-1 sudo:   user1 : TTY=pts/2 ; PWD=/opt/software/web/app ; USER=root ; COMMAND=/usr/bin/killall -9 apache2',\n",
              " 'Apr 19 12:08:32 app-1 sudo:   user1 : TTY=pts/2 ; PWD=/opt/software/web/app ; USER=root ; COMMAND=/etc/init.d/apache2 start',\n",
              " 'Apr 19 12:09:24 app-1 sudo:   user1 : TTY=pts/2 ; PWD=/opt/software/web/app ; USER=root ; COMMAND=/usr/bin/tee search/models.py',\n",
              " 'Apr 19 12:10:02 app-1 sudo:   user1 : TTY=pts/2 ; PWD=/opt/software/web/app ; USER=root ; COMMAND=/usr/bin/tee search/models.py',\n",
              " 'Apr 19 12:10:45 app-1 sudo:   user1 : TTY=pts/2 ; PWD=/opt/software/web/app ; USER=root ; COMMAND=/usr/bin/tee search/models.py',\n",
              " 'Apr 19 12:10:56 app-1 sudo:   user1 : TTY=pts/2 ; PWD=/opt/software/web/app ; USER=root ; COMMAND=/etc/init.d/apache2 stop',\n",
              " 'Apr 19 12:10:58 app-1 sudo:   user1 : TTY=pts/2 ; PWD=/opt/software/web/app ; USER=root ; COMMAND=/usr/bin/killall -9 apache2',\n",
              " 'Apr 19 12:10:59 app-1 sudo:   user1 : TTY=pts/2 ; PWD=/opt/software/web/app ; USER=root ; COMMAND=/etc/init.d/apache2 start',\n",
              " 'Apr 19 12:11:50 app-1 sudo:   user1 : TTY=pts/2 ; PWD=/opt/software/web/app ; USER=root ; COMMAND=/usr/bin/tee search/models.py',\n",
              " 'Apr 19 12:28:53 app-1 sudo:   user1 : TTY=pts/2 ; PWD=/opt/software/web/app ; USER=root ; COMMAND=/usr/bin/tee search/models.py',\n",
              " 'Apr 19 12:29:26 app-1 sudo:   user1 : TTY=pts/2 ; PWD=/opt/software/web/app ; USER=root ; COMMAND=/etc/init.d/apache2 stop',\n",
              " 'Apr 19 12:29:31 app-1 sudo:   user1 : TTY=pts/2 ; PWD=/opt/software/web/app ; USER=root ; COMMAND=/usr/bin/killall -9 apache2',\n",
              " 'Apr 19 12:29:32 app-1 sudo:   user1 : TTY=pts/2 ; PWD=/opt/software/web/app ; USER=root ; COMMAND=/etc/init.d/apache2 start',\n",
              " 'Apr 19 13:16:23 app-1 sudo:   user1 : TTY=pts/2 ; PWD=/opt/software/web/app ; USER=root ; COMMAND=/usr/bin/tee views.py',\n",
              " 'Apr 19 13:17:51 app-1 sudo:   user1 : TTY=pts/2 ; PWD=/opt/software/web/app ; USER=root ; COMMAND=/usr/bin/tee views.py',\n",
              " 'Apr 19 13:24:48 app-1 sudo:   user1 : TTY=pts/2 ; PWD=/opt/software/web/app ; USER=root ; COMMAND=/usr/bin/tee ../templates/user/detail.html',\n",
              " 'Apr 19 13:25:53 app-1 sudo:   user1 : TTY=pts/2 ; PWD=/opt/software/web/app ; USER=root ; COMMAND=/usr/bin/tee registration/forms.py',\n",
              " 'Apr 19 13:26:02 app-1 sudo:   user1 : TTY=pts/2 ; PWD=/opt/software/web/app ; USER=root ; COMMAND=/usr/bin/tee registration/forms.py',\n",
              " 'Apr 19 13:26:57 app-1 sudo:   user1 : TTY=pts/2 ; PWD=/opt/software/web/app ; USER=root ; COMMAND=/usr/bin/tee registration/views.py',\n",
              " 'Apr 19 13:27:24 app-1 sudo:   user1 : TTY=pts/2 ; PWD=/opt/software/web/app ; USER=root ; COMMAND=/usr/bin/tee registration/views.py',\n",
              " 'Apr 19 13:28:07 app-1 sudo:   user1 : TTY=pts/2 ; PWD=/opt/software/web/app ; USER=root ; COMMAND=/etc/init.d/apache2 stop',\n",
              " 'Apr 19 13:28:08 app-1 sudo:   user1 : TTY=pts/2 ; PWD=/opt/software/web/app ; USER=root ; COMMAND=/usr/bin/killall -9 apache2',\n",
              " 'Apr 19 13:28:10 app-1 sudo:   user1 : TTY=pts/2 ; PWD=/opt/software/web/app ; USER=root ; COMMAND=/etc/init.d/apache2 start',\n",
              " 'Apr 19 13:28:31 app-1 sudo:   user1 : TTY=pts/2 ; PWD=/opt/software/web/app ; USER=root ; COMMAND=/usr/bin/tee registration/views.py',\n",
              " 'Apr 19 13:33:05 app-1 sudo:   user1 : TTY=pts/2 ; PWD=/opt/software/web/app ; USER=root ; COMMAND=/usr/bin/tee registration/views.py',\n",
              " 'Apr 19 13:33:24 app-1 sudo:   user1 : TTY=pts/2 ; PWD=/opt/software/web/app ; USER=root ; COMMAND=/etc/init.d/apache2 stop',\n",
              " 'Apr 19 13:33:25 app-1 sudo:   user1 : TTY=pts/2 ; PWD=/opt/software/web/app ; USER=root ; COMMAND=/usr/bin/killall -9 apache2',\n",
              " 'Apr 19 13:33:26 app-1 sudo:   user1 : TTY=pts/2 ; PWD=/opt/software/web/app ; USER=root ; COMMAND=/etc/init.d/apache2 start',\n",
              " 'Apr 19 13:34:22 app-1 sudo:   user1 : TTY=pts/2 ; PWD=/opt/software/web/app ; USER=root ; COMMAND=/usr/bin/tee profile/models.py',\n",
              " 'Apr 19 13:34:41 app-1 sudo:   user1 : TTY=pts/2 ; PWD=/opt/software/web/app ; USER=root ; COMMAND=/usr/bin/tee profile/models.py',\n",
              " 'Apr 19 13:35:23 app-1 sudo:   user1 : TTY=pts/2 ; PWD=/opt/software/web/app ; USER=root ; COMMAND=/usr/bin/tee profile/models.py',\n",
              " 'Apr 19 13:35:58 app-1 sudo:   user1 : TTY=pts/2 ; PWD=/opt/software/web/app ; USER=root ; COMMAND=/usr/bin/tee profile/models.py',\n",
              " 'Apr 19 13:37:56 app-1 sudo:   user1 : TTY=pts/2 ; PWD=/opt/software/web/app ; USER=root ; COMMAND=/usr/bin/tee profile/models.py',\n",
              " 'Apr 19 13:39:02 app-1 sudo:   user1 : TTY=pts/2 ; PWD=/opt/software/web/app ; USER=root ; COMMAND=/usr/bin/tee registration/views.py',\n",
              " 'Apr 19 13:40:10 app-1 sudo:   user1 : TTY=pts/2 ; PWD=/opt/software/web/app ; USER=root ; COMMAND=/usr/bin/tee profile/models.py',\n",
              " 'Apr 19 13:41:36 app-1 sudo:   user1 : TTY=pts/2 ; PWD=/opt/software/web/app ; USER=root ; COMMAND=/usr/bin/tee profile/models.py',\n",
              " 'Apr 19 14:01:10 app-1 sudo:   user1 : TTY=pts/2 ; PWD=/opt/software/web ; USER=root ; COMMAND=/usr/bin/svn commit app/registration/ templates/',\n",
              " 'Apr 19 14:02:23 app-1 sudo:   user1 : TTY=pts/2 ; PWD=/opt/software/web/app ; USER=root ; COMMAND=/etc/init.d/apache2 stop',\n",
              " 'Apr 19 14:02:27 app-1 sudo:   user1 : TTY=pts/2 ; PWD=/opt/software/web/app ; USER=root ; COMMAND=/usr/bin/killall -9 apache2',\n",
              " 'Apr 19 14:02:30 app-1 sudo:   user1 : TTY=pts/2 ; PWD=/opt/software/web/app ; USER=root ; COMMAND=/etc/init.d/apache2 start',\n",
              " 'Apr 19 14:03:12 app-1 sudo:   user1 : TTY=pts/2 ; PWD=/opt/software/web/app ; USER=root ; COMMAND=/usr/bin/tee profile/models.py',\n",
              " 'Apr 19 14:04:08 app-1 sudo:   user1 : TTY=pts/2 ; PWD=/opt/software/web/app ; USER=root ; COMMAND=/usr/bin/svn commit search/ profile/',\n",
              " 'Apr 19 14:05:53 app-1 sudo:   user1 : TTY=pts/2 ; PWD=/opt/software/web/app ; USER=root ; COMMAND=/usr/bin/svn commit api',\n",
              " 'Apr 19 14:15:05 app-1 sudo:   user1 : TTY=pts/2 ; PWD=/opt/software/web/app ; USER=root ; COMMAND=/usr/bin/tee search/models.py',\n",
              " 'Apr 19 14:21:21 app-1 sudo:   user1 : TTY=pts/2 ; PWD=/opt/software/web/app ; USER=root ; COMMAND=/usr/bin/tee search/models.py',\n",
              " 'Apr 19 14:23:17 app-1 sudo:   user1 : TTY=pts/2 ; PWD=/opt/software/web/app ; USER=root ; COMMAND=/etc/init.d/apache2 stop',\n",
              " 'Apr 19 14:23:19 app-1 sudo:   user1 : TTY=pts/2 ; PWD=/opt/software/web/app ; USER=root ; COMMAND=/usr/bin/killall -9 apache2',\n",
              " 'Apr 19 14:23:20 app-1 sudo:   user1 : TTY=pts/2 ; PWD=/opt/software/web/app ; USER=root ; COMMAND=/etc/init.d/apache2 start',\n",
              " 'Apr 19 14:23:29 app-1 sudo:   user1 : TTY=pts/2 ; PWD=/opt/software/web/app ; USER=root ; COMMAND=/usr/bin/tee search/models.py',\n",
              " 'Apr 19 14:23:59 app-1 sudo:   user1 : TTY=pts/2 ; PWD=/opt/software/web/app ; USER=root ; COMMAND=/usr/bin/tee search/models.py',\n",
              " 'Apr 19 14:27:28 app-1 sudo:   user1 : TTY=pts/2 ; PWD=/opt/software/web/app ; USER=root ; COMMAND=/usr/bin/tee shell/views.py',\n",
              " 'Apr 19 14:33:07 app-1 sudo:   user1 : TTY=pts/2 ; PWD=/opt/software/web/app ; USER=root ; COMMAND=/usr/bin/tee search/models.py',\n",
              " 'Apr 19 14:33:37 app-1 sudo:   user1 : TTY=pts/2 ; PWD=/opt/software/web/app ; USER=root ; COMMAND=/usr/bin/tee shell/views.py',\n",
              " 'Apr 19 14:33:51 app-1 sudo:   user1 : TTY=pts/2 ; PWD=/opt/software/web/app ; USER=root ; COMMAND=/etc/init.d/apache2 stop',\n",
              " 'Apr 19 14:33:52 app-1 sudo:   user1 : TTY=pts/2 ; PWD=/opt/software/web/app ; USER=root ; COMMAND=/usr/bin/killall -9 apache2',\n",
              " 'Apr 19 14:33:53 app-1 sudo:   user1 : TTY=pts/2 ; PWD=/opt/software/web/app ; USER=root ; COMMAND=/etc/init.d/apache2 start',\n",
              " 'Apr 19 14:38:42 app-1 sudo:   user1 : TTY=pts/2 ; PWD=/opt/software/web/app ; USER=root ; COMMAND=/usr/bin/tee search/models.py',\n",
              " 'Apr 19 14:47:40 app-1 sudo:   user1 : TTY=pts/2 ; PWD=/opt/software/web/app ; USER=root ; COMMAND=/etc/init.d/apache2 stop',\n",
              " 'Apr 19 14:47:41 app-1 sudo:   user1 : TTY=pts/2 ; PWD=/opt/software/web/app ; USER=root ; COMMAND=/usr/bin/killall -9 apache2',\n",
              " 'Apr 19 14:47:43 app-1 sudo:   user1 : TTY=pts/2 ; PWD=/opt/software/web/app ; USER=root ; COMMAND=/etc/init.d/apache2 start',\n",
              " 'Apr 19 17:23:51 app-1 sudo:   user1 : TTY=pts/0 ; PWD=/opt/software/web/app ; USER=root ; COMMAND=/usr/bin/svn commit shell/',\n",
              " 'Apr 19 17:27:36 app-1 sudo:   user1 : TTY=pts/0 ; PWD=/opt/software/web/app ; USER=root ; COMMAND=/usr/bin/svn commit search/',\n",
              " 'Apr 19 18:15:10 app-1 sudo:     user3 : TTY=pts/0 ; PWD=/opt/software/web/templates/input ; USER=root ; COMMAND=/bin/su',\n",
              " 'Apr 19 23:02:37 app-1 sudo:     root : TTY=pts/2 ; PWD=/root ; USER=root ; COMMAND=/usr/bin/apt-get install build-essential',\n",
              " 'Apr 19 23:21:08 app-1 sudo:      dhg : user NOT in sudoers ; TTY=pts/1 ; PWD=/home/dhg/psybnc-linux/psybnc ; USER=root ; COMMAND=alien lsb-build-4.0.9-2.src.rpm',\n",
              " 'Apr 19 23:24:30 app-1 sudo:      dhg : user NOT in sudoers ; TTY=pts/1 ; PWD=/home/dhg/psybnc-linux/psybnc ; USER=root ; COMMAND=root',\n",
              " 'Apr 19 23:25:00 app-1 sudo:     root : TTY=pts/1 ; PWD=/home/dhg/psybnc-linux/psybnc ; USER=root ; COMMAND=/usr/bin/apt-get update',\n",
              " 'Apr 19 23:27:43 app-1 sudo:     root : TTY=pts/1 ; PWD=/home/dhg/psybnc-linux/psybnc ; USER=root ; COMMAND=/usr/bin/apt-get install alien',\n",
              " 'Apr 19 23:28:17 app-1 sudo:     root : TTY=pts/1 ; PWD=/home/dhg/psybnc-linux/psybnc ; USER=root ; COMMAND=/usr/bin/alien -k lsb-build-4.0.9-2.src.rpm',\n",
              " 'Apr 19 23:29:44 app-1 sudo:     root : TTY=pts/1 ; PWD=/home/dhg/psybnc-linux/psybnc ; USER=root ; COMMAND=/usr/bin/dpkg -i lsb-build_4.0.9-2_amd64.deb',\n",
              " 'Apr 19 23:34:35 app-1 sudo:     root : TTY=pts/1 ; PWD=/home/dhg/eggdrop1.6.19 ; USER=root ; COMMAND=/usr/bin/apt-get install tcl8.4 tk8.4',\n",
              " 'Apr 19 23:37:57 app-1 sudo:     root : TTY=pts/1 ; PWD=/home/dhg/eggdrop1.6.19 ; USER=root ; COMMAND=/usr/bin/apt-get install tcl8.5-dev',\n",
              " 'Apr 19 23:38:18 app-1 sudo:     root : TTY=pts/1 ; PWD=/home/dhg/eggdrop1.6.19 ; USER=root ; COMMAND=/usr/bin/apt-get install eggdrop',\n",
              " 'Apr 20 06:51:38 app-1 sudo:     root : TTY=pts/2 ; PWD=/home/dhg/eggdrop ; USER=root ; COMMAND=/usr/sbin/ufw allow 113/Identd',\n",
              " 'Apr 20 06:52:06 app-1 sudo:     root : TTY=pts/2 ; PWD=/home/dhg/eggdrop ; USER=root ; COMMAND=/usr/sbin/ufw allow 113/identd',\n",
              " 'Apr 20 06:52:15 app-1 sudo:     root : TTY=pts/2 ; PWD=/home/dhg/eggdrop ; USER=root ; COMMAND=/usr/sbin/ufw allow 113',\n",
              " 'Apr 20 06:52:26 app-1 sudo:     root : TTY=pts/2 ; PWD=/home/dhg/eggdrop ; USER=root ; COMMAND=/usr/sbin/ufw allow 53',\n",
              " 'Apr 20 06:54:56 app-1 sudo:     root : TTY=pts/2 ; PWD=/home/dhg/eggdrop ; USER=root ; COMMAND=/etc/init.d/ufw restart',\n",
              " 'Apr 20 06:56:37 app-1 sudo:     root : TTY=pts/2 ; PWD=/home/dhg/eggdrop ; USER=root ; COMMAND=/usr/sbin/ufw status',\n",
              " 'Apr 20 06:57:03 app-1 sudo:     root : TTY=pts/2 ; PWD=/home/dhg/eggdrop ; USER=root ; COMMAND=/usr/sbin/ufw enable',\n",
              " 'Apr 20 06:57:10 app-1 sudo:     root : TTY=pts/2 ; PWD=/home/dhg/eggdrop ; USER=root ; COMMAND=/usr/sbin/ufw status',\n",
              " 'Apr 20 06:57:22 app-1 sudo:     root : TTY=pts/2 ; PWD=/home/dhg/eggdrop ; USER=root ; COMMAND=/etc/init.d/ufw restart',\n",
              " 'Apr 20 06:58:19 app-1 sudo:     root : TTY=pts/2 ; PWD=/home/dhg/eggdrop ; USER=root ; COMMAND=/usr/sbin/ufw allow 0303 telnet',\n",
              " 'Apr 20 06:58:42 app-1 sudo:     root : TTY=pts/2 ; PWD=/home/dhg/eggdrop ; USER=root ; COMMAND=/usr/sbin/ufw allow 22',\n",
              " 'Apr 20 06:58:57 app-1 sudo:     root : TTY=pts/2 ; PWD=/home/dhg/eggdrop ; USER=root ; COMMAND=/usr/sbin/ufw allow 53',\n",
              " 'Apr 20 06:59:02 app-1 sudo:     root : TTY=pts/2 ; PWD=/home/dhg/eggdrop ; USER=root ; COMMAND=/usr/sbin/ufw allow 113',\n",
              " 'Apr 20 06:59:40 app-1 sudo:     root : TTY=pts/2 ; PWD=/home/dhg/eggdrop ; USER=root ; COMMAND=/etc/init.d/ufw restart',\n",
              " 'Apr 20 06:59:46 app-1 sudo:     root : TTY=pts/2 ; PWD=/home/dhg/eggdrop ; USER=root ; COMMAND=/usr/sbin/ufw status',\n",
              " 'Apr 20 07:00:30 app-1 sudo:     root : TTY=pts/2 ; PWD=/home/dhg/eggdrop ; USER=root ; COMMAND=/usr/sbin/ufw disable',\n",
              " 'Apr 20 07:06:11 app-1 sudo:     root : TTY=pts/2 ; PWD=/home/dhg/eggdrop ; USER=root ; COMMAND=/usr/sbin/ufw allow 2685/tcp',\n",
              " 'Apr 20 07:06:22 app-1 sudo:     root : TTY=pts/2 ; PWD=/home/dhg/eggdrop ; USER=root ; COMMAND=/usr/sbin/ufw allow 2685/telnet',\n",
              " 'Apr 22 08:38:07 app-1 sudo:   user1 : TTY=pts/0 ; PWD=/opt/software/web/app ; USER=root ; COMMAND=/usr/bin/tee input/models.py',\n",
              " 'Apr 22 08:42:02 app-1 sudo:   user1 : TTY=pts/0 ; PWD=/opt/software/web/app ; USER=root ; COMMAND=/usr/bin/tee input/models.py',\n",
              " 'Apr 22 08:52:39 app-1 sudo:   user1 : TTY=pts/0 ; PWD=/opt/software/web/app ; USER=root ; COMMAND=/usr/bin/tee search/models.py',\n",
              " 'Apr 22 08:53:39 app-1 sudo:   user1 : TTY=pts/0 ; PWD=/opt/software/web/app ; USER=root ; COMMAND=/usr/bin/tee views.py',\n",
              " 'Apr 22 08:55:05 app-1 sudo:   user1 : TTY=pts/0 ; PWD=/opt/software/web/app ; USER=root ; COMMAND=/usr/bin/tee api/input.py',\n",
              " 'Apr 22 08:59:00 app-1 sudo:   user1 : TTY=pts/0 ; PWD=/opt/software/web/app ; USER=root ; COMMAND=/usr/bin/tee input/models.py',\n",
              " 'Apr 22 11:10:05 app-1 sudo:   user1 : TTY=pts/4 ; PWD=/opt/software/web/app ; USER=root ; COMMAND=/usr/bin/svn commit search/',\n",
              " 'Apr 22 11:17:06 app-1 sudo:   user1 : TTY=pts/4 ; PWD=/opt/software/web/app ; USER=root ; COMMAND=/usr/bin/tee input/models.py',\n",
              " 'Apr 22 11:22:24 app-1 sudo:   user1 : TTY=pts/4 ; PWD=/opt/software/web/app ; USER=root ; COMMAND=/usr/bin/tee input/models.py',\n",
              " 'Apr 22 11:29:34 app-1 sudo:   user1 : TTY=pts/4 ; PWD=/opt/software/web/app ; USER=root ; COMMAND=/usr/bin/tee api/input.py',\n",
              " 'Apr 22 11:32:49 app-1 sudo:   user1 : TTY=pts/4 ; PWD=/opt/software/web/app ; USER=root ; COMMAND=/usr/bin/tee api/urls.py',\n",
              " 'Apr 22 11:33:50 app-1 sudo:   user1 : TTY=pts/4 ; PWD=/opt/software/web/app ; USER=root ; COMMAND=/etc/init.d/apache2 stop',\n",
              " 'Apr 22 11:33:51 app-1 sudo:   user1 : TTY=pts/4 ; PWD=/opt/software/web/app ; USER=root ; COMMAND=/usr/bin/killall -9 apache2',\n",
              " 'Apr 22 11:33:53 app-1 sudo:   user1 : TTY=pts/4 ; PWD=/opt/software/web/app ; USER=root ; COMMAND=/etc/init.d/apache2 start',\n",
              " 'Apr 22 11:38:57 app-1 sudo:   user1 : TTY=pts/4 ; PWD=/opt/software/web/app ; USER=root ; COMMAND=/usr/bin/tee api/input.py',\n",
              " 'Apr 22 11:42:36 app-1 sudo:   user1 : TTY=pts/4 ; PWD=/opt/software/web/app ; USER=root ; COMMAND=/usr/bin/tee api/input.py',\n",
              " 'Apr 22 11:42:48 app-1 sudo:   user1 : TTY=pts/4 ; PWD=/opt/software/web/app ; USER=root ; COMMAND=/etc/init.d/apache2 stop',\n",
              " 'Apr 22 11:42:57 app-1 sudo:   user1 : TTY=pts/4 ; PWD=/opt/software/web/app ; USER=root ; COMMAND=/usr/bin/killall -9 apache2',\n",
              " 'Apr 22 11:42:59 app-1 sudo:   user1 : TTY=pts/4 ; PWD=/opt/software/web/app ; USER=root ; COMMAND=/etc/init.d/apache2 start',\n",
              " 'Apr 22 11:44:26 app-1 sudo:   user1 : TTY=pts/4 ; PWD=/opt/software/web/app ; USER=root ; COMMAND=/etc/init.d/apache2 stop',\n",
              " 'Apr 22 11:44:27 app-1 sudo:   user1 : TTY=pts/4 ; PWD=/opt/software/web/app ; USER=root ; COMMAND=/usr/bin/killall -9 apache2',\n",
              " 'Apr 22 11:44:29 app-1 sudo:   user1 : TTY=pts/4 ; PWD=/opt/software/web/app ; USER=root ; COMMAND=/etc/init.d/apache2 start',\n",
              " 'Apr 22 11:45:37 app-1 sudo:   user1 : TTY=pts/4 ; PWD=/opt/software/web/app ; USER=root ; COMMAND=/usr/bin/tee api/input.py',\n",
              " 'Apr 22 11:46:53 app-1 sudo:   user1 : TTY=pts/4 ; PWD=/opt/software/web/app ; USER=root ; COMMAND=/usr/bin/tee api/input.py',\n",
              " 'Apr 22 11:47:04 app-1 sudo:   user1 : TTY=pts/4 ; PWD=/opt/software/web/app ; USER=root ; COMMAND=/etc/init.d/apache2 stop',\n",
              " 'Apr 22 11:47:06 app-1 sudo:   user1 : TTY=pts/4 ; PWD=/opt/software/web/app ; USER=root ; COMMAND=/usr/bin/killall -9 apache2',\n",
              " 'Apr 22 11:47:07 app-1 sudo:   user1 : TTY=pts/4 ; PWD=/opt/software/web/app ; USER=root ; COMMAND=/etc/init.d/apache2 start',\n",
              " 'Apr 22 11:48:00 app-1 sudo:   user1 : TTY=pts/4 ; PWD=/opt/software/web/app ; USER=root ; COMMAND=/usr/bin/tee api/urls.py',\n",
              " 'Apr 22 11:49:48 app-1 sudo:   user1 : TTY=pts/4 ; PWD=/opt/software/web/app ; USER=root ; COMMAND=/usr/bin/tee input/models.py',\n",
              " 'Apr 22 11:50:05 app-1 sudo:   user1 : TTY=pts/4 ; PWD=/opt/software/web/app ; USER=root ; COMMAND=/etc/init.d/apache2 stop',\n",
              " 'Apr 22 11:50:06 app-1 sudo:   user1 : TTY=pts/4 ; PWD=/opt/software/web/app ; USER=root ; COMMAND=/usr/bin/killall -9 apache2',\n",
              " 'Apr 22 11:50:08 app-1 sudo:   user1 : TTY=pts/4 ; PWD=/opt/software/web/app ; USER=root ; COMMAND=/etc/init.d/apache2 start',\n",
              " 'Apr 22 12:34:50 app-1 sudo:   user1 : TTY=pts/0 ; PWD=/opt/software/web/app ; USER=root ; COMMAND=/usr/bin/tee input/models.py',\n",
              " 'Apr 22 12:37:15 app-1 sudo:   user1 : TTY=pts/0 ; PWD=/opt/software/web/app ; USER=root ; COMMAND=/usr/bin/tee input/models.py',\n",
              " 'Apr 22 12:37:34 app-1 sudo:   user1 : TTY=pts/0 ; PWD=/opt/software/web/app ; USER=root ; COMMAND=/usr/bin/tee input/models.py',\n",
              " 'Apr 22 12:37:42 app-1 sudo:   user1 : TTY=pts/0 ; PWD=/opt/software/web/app ; USER=root ; COMMAND=/etc/init.d/apache2 stop',\n",
              " 'Apr 22 12:37:43 app-1 sudo:   user1 : TTY=pts/0 ; PWD=/opt/software/web/app ; USER=root ; COMMAND=/usr/bin/killall -9 apache2',\n",
              " 'Apr 22 12:37:45 app-1 sudo:   user1 : TTY=pts/0 ; PWD=/opt/software/web/app ; USER=root ; COMMAND=/etc/init.d/apache2 start',\n",
              " 'Apr 22 12:41:58 app-1 sudo:   user1 : TTY=pts/0 ; PWD=/opt/software/web/app ; USER=root ; COMMAND=/usr/bin/tee input/models.py',\n",
              " 'Apr 22 12:42:08 app-1 sudo:   user1 : TTY=pts/0 ; PWD=/opt/software/web/app ; USER=root ; COMMAND=/etc/init.d/apache2 stop',\n",
              " 'Apr 22 12:42:09 app-1 sudo:   user1 : TTY=pts/0 ; PWD=/opt/software/web/app ; USER=root ; COMMAND=/usr/bin/killall -9 apache2',\n",
              " 'Apr 22 12:42:13 app-1 sudo:   user1 : TTY=pts/0 ; PWD=/opt/software/web/app ; USER=root ; COMMAND=/etc/init.d/apache2 start',\n",
              " 'Apr 22 12:43:37 app-1 sudo:   user1 : TTY=pts/0 ; PWD=/opt/software/web/app ; USER=root ; COMMAND=/usr/bin/tee input/models.py',\n",
              " 'Apr 22 12:44:28 app-1 sudo:   user1 : TTY=pts/0 ; PWD=/opt/software/web/app ; USER=root ; COMMAND=/usr/bin/tee input/models.py',\n",
              " 'Apr 22 12:46:26 app-1 sudo:   user1 : TTY=pts/0 ; PWD=/opt/software/web/app ; USER=root ; COMMAND=/usr/bin/tee input/models.py',\n",
              " 'Apr 22 12:46:30 app-1 sudo:   user1 : TTY=pts/0 ; PWD=/opt/software/web/app ; USER=root ; COMMAND=/etc/init.d/apache2 stop',\n",
              " 'Apr 22 12:46:31 app-1 sudo:   user1 : TTY=pts/0 ; PWD=/opt/software/web/app ; USER=root ; COMMAND=/usr/bin/killall -9 apache2',\n",
              " 'Apr 22 12:46:33 app-1 sudo:   user1 : TTY=pts/0 ; PWD=/opt/software/web/app ; USER=root ; COMMAND=/etc/init.d/apache2 start',\n",
              " 'Apr 22 12:49:43 app-1 sudo:   user1 : TTY=pts/0 ; PWD=/opt/software/web/app ; USER=root ; COMMAND=/usr/bin/tee input/models.py',\n",
              " 'Apr 22 12:50:02 app-1 sudo:   user1 : TTY=pts/0 ; PWD=/opt/software/web/app ; USER=root ; COMMAND=/etc/init.d/apache2 stop',\n",
              " 'Apr 22 12:50:04 app-1 sudo:   user1 : TTY=pts/0 ; PWD=/opt/software/web/app ; USER=root ; COMMAND=/usr/bin/killall -9 apache2',\n",
              " 'Apr 22 12:50:06 app-1 sudo:   user1 : TTY=pts/0 ; PWD=/opt/software/web/app ; USER=root ; COMMAND=/etc/init.d/apache2 start',\n",
              " 'Apr 22 12:50:33 app-1 sudo:   user1 : TTY=pts/0 ; PWD=/opt/software/web/app ; USER=root ; COMMAND=/usr/bin/tee input/models.py',\n",
              " 'Apr 22 12:53:33 app-1 sudo:   user1 : TTY=pts/0 ; PWD=/opt/software/web/app ; USER=root ; COMMAND=/usr/bin/tee api/input.py',\n",
              " 'Apr 22 12:53:59 app-1 sudo:   user1 : TTY=pts/0 ; PWD=/opt/software/web/app ; USER=root ; COMMAND=/usr/bin/tee api/input.py',\n",
              " 'Apr 22 12:54:42 app-1 sudo:   user1 : TTY=pts/0 ; PWD=/opt/software/web/app ; USER=root ; COMMAND=/usr/bin/tee api/input.py',\n",
              " 'Apr 22 12:55:39 app-1 sudo:   user1 : TTY=pts/0 ; PWD=/opt/software/web/app ; USER=root ; COMMAND=/usr/bin/tee input/models.py',\n",
              " 'Apr 22 12:56:15 app-1 sudo:   user1 : TTY=pts/0 ; PWD=/opt/software/web/app ; USER=root ; COMMAND=/usr/bin/tee input/models.py',\n",
              " 'Apr 22 12:56:56 app-1 sudo:   user1 : TTY=pts/0 ; PWD=/opt/software/web/app ; USER=root ; COMMAND=/usr/bin/tee input/models.py',\n",
              " 'Apr 22 12:57:59 app-1 sudo:   user1 : TTY=pts/0 ; PWD=/opt/software/web/app ; USER=root ; COMMAND=/usr/bin/tee input/models.py',\n",
              " 'Apr 22 12:58:55 app-1 sudo:   user1 : TTY=pts/0 ; PWD=/opt/software/web/app ; USER=root ; COMMAND=/usr/bin/tee input/models.py',\n",
              " 'Apr 22 12:59:14 app-1 sudo:   user1 : TTY=pts/0 ; PWD=/opt/software/web/app ; USER=root ; COMMAND=/usr/bin/tee input/models.py',\n",
              " 'Apr 22 12:59:33 app-1 sudo:   user1 : TTY=pts/0 ; PWD=/opt/software/web/app ; USER=root ; COMMAND=/usr/bin/tee input/models.py',\n",
              " 'Apr 22 13:00:16 app-1 sudo:   user1 : TTY=pts/0 ; PWD=/opt/software/web/app ; USER=root ; COMMAND=/usr/bin/tee input/models.py',\n",
              " 'Apr 22 13:00:42 app-1 sudo:   user1 : TTY=pts/0 ; PWD=/opt/software/web/app ; USER=root ; COMMAND=/usr/bin/tee input/models.py',\n",
              " 'Apr 22 13:01:24 app-1 sudo:   user1 : TTY=pts/0 ; PWD=/opt/software/web/app ; USER=root ; COMMAND=/usr/bin/tee input/models.py',\n",
              " 'Apr 22 13:01:32 app-1 sudo:   user1 : TTY=pts/0 ; PWD=/opt/software/web/app ; USER=root ; COMMAND=/usr/bin/tee input/models.py',\n",
              " 'Apr 22 13:02:29 app-1 sudo:   user1 : TTY=pts/0 ; PWD=/opt/software/web/app ; USER=root ; COMMAND=/usr/bin/tee input/models.py',\n",
              " 'Apr 22 13:03:05 app-1 sudo:   user1 : TTY=pts/0 ; PWD=/opt/software/web/app ; USER=root ; COMMAND=/usr/bin/tee input/models.py',\n",
              " 'Apr 22 13:03:44 app-1 sudo:   user1 : TTY=pts/0 ; PWD=/opt/software/web/app ; USER=root ; COMMAND=/usr/bin/tee api/input.py',\n",
              " 'Apr 22 13:04:28 app-1 sudo:   user1 : TTY=pts/0 ; PWD=/opt/software/web/app ; USER=root ; COMMAND=/usr/bin/tee input/models.py',\n",
              " 'Apr 22 13:05:14 app-1 sudo:   user1 : TTY=pts/0 ; PWD=/opt/software/web/app ; USER=root ; COMMAND=/usr/bin/tee input/models.py',\n",
              " 'Apr 22 13:06:50 app-1 sudo:   user1 : TTY=pts/0 ; PWD=/opt/software/web/app ; USER=root ; COMMAND=/usr/bin/tee input/models.py',\n",
              " 'Apr 22 13:07:35 app-1 sudo:   user1 : TTY=pts/0 ; PWD=/opt/software/web/app ; USER=root ; COMMAND=/usr/bin/tee input/models.py',\n",
              " 'Apr 22 13:08:38 app-1 sudo:   user1 : TTY=pts/0 ; PWD=/opt/software/web/app ; USER=root ; COMMAND=/usr/bin/tee input/models.py',\n",
              " 'Apr 22 13:14:19 app-1 sudo:   user1 : TTY=pts/0 ; PWD=/opt/software/web/app ; USER=root ; COMMAND=/usr/bin/tee ../templates/dashboard/input.html',\n",
              " 'Apr 22 13:15:29 app-1 sudo:   user1 : TTY=pts/0 ; PWD=/opt/software/web/app ; USER=root ; COMMAND=/etc/init.d/apache2 stop',\n",
              " 'Apr 22 13:15:31 app-1 sudo:   user1 : TTY=pts/0 ; PWD=/opt/software/web/app ; USER=root ; COMMAND=/usr/bin/killall -9 apache2',\n",
              " 'Apr 22 13:15:34 app-1 sudo:   user1 : TTY=pts/0 ; PWD=/opt/software/web/app ; USER=root ; COMMAND=/etc/init.d/apache2 start',\n",
              " 'Apr 22 13:16:40 app-1 sudo:   user1 : TTY=pts/0 ; PWD=/opt/software/web/app ; USER=root ; COMMAND=/usr/bin/tee ../templates/dashboard/input.html',\n",
              " 'Apr 22 13:17:11 app-1 sudo:   user1 : TTY=pts/0 ; PWD=/opt/software/web/app ; USER=root ; COMMAND=/usr/bin/tee ../templates/dashboard/input.html',\n",
              " 'Apr 22 13:18:24 app-1 sudo:   user1 : TTY=pts/0 ; PWD=/opt/software/web ; USER=root ; COMMAND=/usr/bin/svn commit templates/ app/api/ app/input/',\n",
              " 'Apr 23 07:34:26 app-1 sudo:   user1 : TTY=pts/0 ; PWD=/opt/software/web/app ; USER=root ; COMMAND=/usr/bin/tee input/models.py',\n",
              " 'Apr 23 07:36:25 app-1 sudo:   user1 : TTY=pts/0 ; PWD=/opt/software/web/app ; USER=root ; COMMAND=/usr/bin/tee search/models.py',\n",
              " 'Apr 23 07:38:07 app-1 sudo:   user1 : TTY=pts/0 ; PWD=/opt/software/web/app ; USER=root ; COMMAND=/usr/bin/svn commit search/models.py',\n",
              " 'Apr 23 07:38:40 app-1 sudo:   user1 : TTY=pts/0 ; PWD=/opt/software/web/app ; USER=root ; COMMAND=/usr/bin/svn commit input/',\n",
              " 'Apr 23 11:19:33 app-1 sudo:   user1 : TTY=pts/0 ; PWD=/opt/software/web/app ; USER=root ; COMMAND=/usr/bin/tee signup/views.py',\n",
              " 'Apr 23 11:19:51 app-1 sudo:   user1 : TTY=pts/0 ; PWD=/opt/software/web/app ; USER=root ; COMMAND=/etc/init.d/apache2 stop',\n",
              " 'Apr 23 11:20:41 app-1 sudo:   user1 : TTY=pts/0 ; PWD=/opt/software/web/app ; USER=root ; COMMAND=/usr/bin/tee signup/views.py',\n",
              " 'Apr 23 11:20:44 app-1 sudo:   user1 : TTY=pts/0 ; PWD=/opt/software/web/app ; USER=root ; COMMAND=/etc/init.d/apache2 stop',\n",
              " 'Apr 23 11:20:50 app-1 sudo:   user1 : TTY=pts/0 ; PWD=/opt/software/web/app ; USER=root ; COMMAND=/etc/init.d/apache2 start',\n",
              " 'Apr 23 11:21:02 app-1 sudo:   user1 : TTY=pts/0 ; PWD=/opt/software/web/app ; USER=root ; COMMAND=/usr/bin/tee signup/views.py',\n",
              " 'Apr 23 11:21:08 app-1 sudo:   user1 : TTY=pts/0 ; PWD=/opt/software/web/app ; USER=root ; COMMAND=/etc/init.d/apache2 stop',\n",
              " 'Apr 23 11:21:09 app-1 sudo:   user1 : TTY=pts/0 ; PWD=/opt/software/web/app ; USER=root ; COMMAND=/etc/init.d/apache2 start',\n",
              " 'Apr 23 11:21:23 app-1 sudo:   user1 : TTY=pts/0 ; PWD=/opt/software/web/app ; USER=root ; COMMAND=/usr/bin/tee signup/views.py',\n",
              " 'Apr 23 11:23:32 app-1 sudo:   user1 : TTY=pts/0 ; PWD=/opt/software/web/app ; USER=root ; COMMAND=/usr/bin/tee signup/views.py',\n",
              " 'Apr 23 11:24:08 app-1 sudo:   user1 : TTY=pts/0 ; PWD=/opt/software/web/app ; USER=root ; COMMAND=/usr/bin/tee /etc/apache2/sites-enabled/001-www',\n",
              " 'Apr 23 11:24:32 app-1 sudo:   user1 : TTY=pts/0 ; PWD=/opt/software/web/app ; USER=root ; COMMAND=/usr/sbin/tcpdump -nnlAs 0 port 80',\n",
              " 'Apr 23 11:25:17 app-1 sudo:   user1 : TTY=pts/0 ; PWD=/opt/software/web/app ; USER=root ; COMMAND=/etc/init.d/apache2 stop',\n",
              " 'Apr 23 11:25:18 app-1 sudo:   user1 : TTY=pts/0 ; PWD=/opt/software/web/app ; USER=root ; COMMAND=/etc/init.d/apache2 start',\n",
              " 'Apr 23 11:25:30 app-1 sudo:   user1 : TTY=pts/0 ; PWD=/opt/software/web/app ; USER=root ; COMMAND=/usr/sbin/tcpdump -nnlAs 0 port 80',\n",
              " 'Apr 23 11:26:12 app-1 sudo:   user1 : TTY=pts/0 ; PWD=/opt/software/web/app ; USER=root ; COMMAND=/usr/bin/tee /etc/apache2/sites-enabled/001-www',\n",
              " 'Apr 23 11:26:17 app-1 sudo:   user1 : TTY=pts/0 ; PWD=/opt/software/web/app ; USER=root ; COMMAND=/etc/init.d/apache2 stop',\n",
              " 'Apr 23 11:26:19 app-1 sudo:   user1 : TTY=pts/0 ; PWD=/opt/software/web/app ; USER=root ; COMMAND=/etc/init.d/apache2 start',\n",
              " 'Apr 23 11:26:24 app-1 sudo:   user1 : TTY=pts/0 ; PWD=/opt/software/web/app ; USER=root ; COMMAND=/usr/sbin/tcpdump -nnlAs 0 port 80',\n",
              " 'Apr 23 11:27:24 app-1 sudo:   user1 : TTY=pts/0 ; PWD=/opt/software/web/app ; USER=root ; COMMAND=/usr/bin/tee /etc/apache2/sites-enabled/001-www',\n",
              " 'Apr 23 11:27:27 app-1 sudo:   user1 : TTY=pts/0 ; PWD=/opt/software/web/app ; USER=root ; COMMAND=/usr/sbin/tcpdump -nnlAs 0 port 80',\n",
              " 'Apr 23 11:27:47 app-1 sudo:   user1 : TTY=pts/0 ; PWD=/opt/software/web/app ; USER=root ; COMMAND=/etc/init.d/apache2 stop',\n",
              " 'Apr 23 11:27:48 app-1 sudo:   user1 : TTY=pts/0 ; PWD=/opt/software/web/app ; USER=root ; COMMAND=/etc/init.d/apache2 start',\n",
              " 'Apr 23 11:27:54 app-1 sudo:   user1 : TTY=pts/0 ; PWD=/opt/software/web/app ; USER=root ; COMMAND=/usr/bin/killall -9 apache2',\n",
              " 'Apr 23 11:27:56 app-1 sudo:   user1 : TTY=pts/0 ; PWD=/opt/software/web/app ; USER=root ; COMMAND=/etc/init.d/apache2 start',\n",
              " 'Apr 23 11:28:08 app-1 sudo:   user1 : TTY=pts/0 ; PWD=/opt/software/web/app ; USER=root ; COMMAND=/usr/sbin/tcpdump -nnlAs 0 port 80',\n",
              " 'Apr 23 11:30:40 app-1 sudo:   user1 : TTY=pts/0 ; PWD=/opt/software/web/app ; USER=root ; COMMAND=/usr/bin/tee /etc/apache2/sites-enabled/001-www',\n",
              " 'Apr 23 11:30:55 app-1 sudo:   user1 : TTY=pts/0 ; PWD=/opt/software/web/app ; USER=root ; COMMAND=/usr/sbin/tcpdump -nnlAi lo -s 0 port 80',\n",
              " 'Apr 23 11:31:09 app-1 sudo:   user1 : TTY=pts/0 ; PWD=/opt/software/web/app ; USER=root ; COMMAND=/etc/init.d/apache2 stop',\n",
              " 'Apr 23 11:31:11 app-1 sudo:   user1 : TTY=pts/0 ; PWD=/opt/software/web/app ; USER=root ; COMMAND=/usr/bin/killall -9 apache2',\n",
              " 'Apr 23 11:31:16 app-1 sudo:   user1 : TTY=pts/0 ; PWD=/opt/software/web/app ; USER=root ; COMMAND=/etc/init.d/apache2 start',\n",
              " 'Apr 23 11:31:28 app-1 sudo:   user1 : TTY=pts/0 ; PWD=/opt/software/web/app ; USER=root ; COMMAND=/usr/sbin/tcpdump -nnlAi lo -s 0 port 80',\n",
              " 'Apr 24 19:25:37 app-1 sudo:     root : TTY=pts/2 ; PWD=/etc ; USER=root ; COMMAND=/sbin/iptables -L',\n",
              " 'Apr 24 19:47:48 app-1 sudo:     root : TTY=pts/2 ; PWD=/etc ; USER=root ; COMMAND=/usr/sbin/ufw allow 53',\n",
              " 'Apr 24 19:47:56 app-1 sudo:     root : TTY=pts/2 ; PWD=/etc ; USER=root ; COMMAND=/usr/sbin/ufw allow 113',\n",
              " 'Apr 24 19:48:10 app-1 sudo:     root : TTY=pts/2 ; PWD=/etc ; USER=root ; COMMAND=/usr/sbin/ufw disable',\n",
              " 'Apr 24 19:48:21 app-1 sudo:     root : TTY=pts/2 ; PWD=/etc ; USER=root ; COMMAND=/usr/sbin/ufw enable',\n",
              " 'Apr 24 19:50:26 app-1 sudo:     root : TTY=pts/2 ; PWD=/etc ; USER=root ; COMMAND=/usr/sbin/ufw disable',\n",
              " 'Apr 24 19:58:58 app-1 sudo:     root : TTY=pts/2 ; PWD=/etc ; USER=root ; COMMAND=/usr/bin/apt-get update',\n",
              " 'Apr 24 19:59:52 app-1 sudo:     root : TTY=pts/2 ; PWD=/etc ; USER=root ; COMMAND=/usr/bin/apt-get upgrade',\n",
              " 'Apr 24 20:03:06 app-1 sudo:     root : TTY=pts/2 ; PWD=/etc ; USER=root ; COMMAND=/sbin/iptables -A INPUT -p ssh -dport 2424 -j ACCEPT',\n",
              " 'Apr 24 20:03:44 app-1 sudo:     root : TTY=pts/2 ; PWD=/etc ; USER=root ; COMMAND=/sbin/iptables -A INPUT -p tcp -dport 53 -j ACCEPT',\n",
              " 'Apr 24 20:04:13 app-1 sudo:     root : TTY=pts/2 ; PWD=/etc ; USER=root ; COMMAND=/sbin/iptables -A INPUT -p udp -dport 53 -j ACCEPT',\n",
              " 'Apr 24 20:06:22 app-1 sudo:     root : TTY=pts/2 ; PWD=/etc ; USER=root ; COMMAND=/sbin/iptables -A INPUT -p tcp --dport ssh -j ACCEPT',\n",
              " 'Apr 24 20:11:00 app-1 sudo:     root : TTY=pts/2 ; PWD=/etc ; USER=root ; COMMAND=/sbin/iptables -A INPUT -p tcp --dport 53 -j ACCEPT',\n",
              " 'Apr 24 20:11:08 app-1 sudo:     root : TTY=pts/2 ; PWD=/etc ; USER=root ; COMMAND=/sbin/iptables -A INPUT -p tcp --dport 113 -j ACCEPT',\n",
              " 'Apr 24 20:17:39 app-1 sudo:     root : TTY=pts/2 ; PWD=/etc ; USER=root ; COMMAND=/usr/sbin/ufw disable',\n",
              " 'Apr 24 20:18:09 app-1 sudo:     root : TTY=pts/2 ; PWD=/etc ; USER=root ; COMMAND=/usr/sbin/ufw enable',\n",
              " 'Apr 26 09:48:33 app-1 sudo:   user1 : TTY=pts/1 ; PWD=/bin ; USER=root ; COMMAND=/bin/su -',\n",
              " 'Apr 28 07:35:14 app-1 sudo:   user1 : TTY=tty1 ; PWD=/home/user1 ; USER=root ; COMMAND=/bin/su -',\n",
              " 'May  2 23:07:40 app-1 sudo:   user1 : TTY=tty1 ; PWD=/home/user1 ; USER=root ; COMMAND=/bin/mount /dev/sdb1 /mnt',\n",
              " 'May  2 23:10:45 app-1 sudo:   user1 : TTY=tty1 ; PWD=/var/log ; USER=root ; COMMAND=/bin/cp auth.log /mnt',\n",
              " 'May  2 23:11:13 app-1 sudo:   user1 : TTY=tty1 ; PWD=/var ; USER=root ; COMMAND=/bin/tar -cpzf log.tar.gz log']"
            ]
          },
          "metadata": {},
          "execution_count": 43
        }
      ]
    },
    {
      "cell_type": "code",
      "source": [
        "!pip install apachelogs\n",
        "\n",
        "from collections import deque, Counter\n",
        "import re\n",
        "import apachelogs\n",
        "import pandas as pd\n",
        "import warnings\n",
        "warnings.simplefilter(action='ignore', category=UserWarning)"
      ],
      "metadata": {
        "colab": {
          "base_uri": "https://localhost:8080/"
        },
        "id": "5dGpoRtpy_gC",
        "outputId": "3ff6ab28-cf52-4acf-ab13-84477b2294a8"
      },
      "execution_count": 44,
      "outputs": [
        {
          "output_type": "stream",
          "name": "stdout",
          "text": [
            "Looking in indexes: https://pypi.org/simple, https://us-python.pkg.dev/colab-wheels/public/simple/\n",
            "Requirement already satisfied: apachelogs in /usr/local/lib/python3.7/dist-packages (0.6.0)\n",
            "Requirement already satisfied: pydicti~=1.1 in /usr/local/lib/python3.7/dist-packages (from apachelogs) (1.1.6)\n",
            "Requirement already satisfied: attrs>=17.1 in /usr/local/lib/python3.7/dist-packages (from apachelogs) (21.4.0)\n"
          ]
        }
      ]
    },
    {
      "cell_type": "code",
      "source": [
        "pd.set_option(\"display.max_rows\", None)"
      ],
      "metadata": {
        "id": "jKge83Sxwafk"
      },
      "execution_count": 45,
      "outputs": []
    },
    {
      "cell_type": "code",
      "source": [
        "parser = apachelogs.LogParser(\"%h %l %u %t \\\"%r\\\" %>s %b \\\"%{Referer}i\\\" \\\"%{User-Agent}i\\\"\")"
      ],
      "metadata": {
        "id": "WavL4eBgxdtS"
      },
      "execution_count": 46,
      "outputs": []
    },
    {
      "cell_type": "code",
      "source": [
        "accesslog= search(\"Hammered/apache2/www-access.log\", '')\n",
        "accesslog[0:5]"
      ],
      "metadata": {
        "colab": {
          "base_uri": "https://localhost:8080/"
        },
        "id": "cPI9CSMP0wiT",
        "outputId": "188568f1-221a-405d-c157-1271e51f96bc"
      },
      "execution_count": 52,
      "outputs": [
        {
          "output_type": "execute_result",
          "data": {
            "text/plain": [
              "['10.0.1.2 - - [19/Apr/2010:06:36:15 -0700] \"GET /feed/ HTTP/1.1\" 200 16605 \"-\" \"Apple-PubSub/65.12.1\" C4nE4goAAQ4AAEP1Dh8AAAAA 3822005',\n",
              " '10.0.1.2 - - [19/Apr/2010:07:05:25 -0700] \"GET /feed/ HTTP/1.1\" 200 16605 \"-\" \"Apple-PubSub/65.12.1\" c@FurwoAAQ4AAEP2EQYAAAAC 3043815',\n",
              " '10.0.1.2 - - [19/Apr/2010:07:33:47 -0700] \"GET /feed/ HTTP/1.1\" 200 16605 \"-\" \"Apple-PubSub/65.12.1\" 2UiswgoAAQ4AAEP3EbIAAAAD 4687677',\n",
              " '10.0.1.2 - - [19/Apr/2010:08:02:10 -0700] \"GET /feed/ HTTP/1.1\" 200 16605 \"-\" \"Apple-PubSub/65.12.1\" PsoODgoAAQ4AAEP4ElQAAAAE 717069',\n",
              " '123.4.59.174 - - [19/Apr/2010:08:26:30 -0700] \"GET http://proxyjudge1.proxyfire.net/fastenv HTTP/1.1\" 404 1466 \"-\" \"Mozilla/4.0 (compatible; MSIE 6.0; Windows NT 5.1)\" ldqydQoAAQ4AAEP5EvsAAAAF 2358754']"
            ]
          },
          "metadata": {},
          "execution_count": 52
        }
      ]
    },
    {
      "cell_type": "code",
      "source": [
        "log_line = accesslog\n",
        "df_col = [\"ip\", 'time', \"request\", \"status\", \"size\"]\n",
        "df_row = []\n",
        "for x in log_line:\n",
        "  p1 = parser.parse(x.replace(re.findall('( [a-zA-Z0-9@\\-]+ [0-9]+)', x)[-1], \"\"))\n",
        "  df_row += [[p1.remote_host,p1.request_time.strftime(\"%m/%d/%Y, %H:%M:%S\"),\n",
        "             p1.request_line, p1.final_status, p1.bytes_sent]]\n",
        "\n",
        "df = pd.DataFrame(data=df_row, columns=df_col)\n",
        "  "
      ],
      "metadata": {
        "id": "C2k6jBCc1TKr"
      },
      "execution_count": 60,
      "outputs": []
    },
    {
      "cell_type": "code",
      "source": [
        "df.head()"
      ],
      "metadata": {
        "colab": {
          "base_uri": "https://localhost:8080/",
          "height": 206
        },
        "id": "L1jG_omU7tIn",
        "outputId": "6bbc9f0a-2c5b-4898-b7e1-3d10c346e9fd"
      },
      "execution_count": 64,
      "outputs": [
        {
          "output_type": "execute_result",
          "data": {
            "text/plain": [
              "             ip                  time  \\\n",
              "0      10.0.1.2  04/19/2010, 06:36:15   \n",
              "1      10.0.1.2  04/19/2010, 07:05:25   \n",
              "2      10.0.1.2  04/19/2010, 07:33:47   \n",
              "3      10.0.1.2  04/19/2010, 08:02:10   \n",
              "4  123.4.59.174  04/19/2010, 08:26:30   \n",
              "\n",
              "                                             request  status     size  \n",
              "0                                GET /feed/ HTTP/1.1     200  16605.0  \n",
              "1                                GET /feed/ HTTP/1.1     200  16605.0  \n",
              "2                                GET /feed/ HTTP/1.1     200  16605.0  \n",
              "3                                GET /feed/ HTTP/1.1     200  16605.0  \n",
              "4  GET http://proxyjudge1.proxyfire.net/fastenv H...     404   1466.0  "
            ],
            "text/html": [
              "\n",
              "  <div id=\"df-5784355f-a413-40b5-8e11-fa413d091a8f\">\n",
              "    <div class=\"colab-df-container\">\n",
              "      <div>\n",
              "<style scoped>\n",
              "    .dataframe tbody tr th:only-of-type {\n",
              "        vertical-align: middle;\n",
              "    }\n",
              "\n",
              "    .dataframe tbody tr th {\n",
              "        vertical-align: top;\n",
              "    }\n",
              "\n",
              "    .dataframe thead th {\n",
              "        text-align: right;\n",
              "    }\n",
              "</style>\n",
              "<table border=\"1\" class=\"dataframe\">\n",
              "  <thead>\n",
              "    <tr style=\"text-align: right;\">\n",
              "      <th></th>\n",
              "      <th>ip</th>\n",
              "      <th>time</th>\n",
              "      <th>request</th>\n",
              "      <th>status</th>\n",
              "      <th>size</th>\n",
              "    </tr>\n",
              "  </thead>\n",
              "  <tbody>\n",
              "    <tr>\n",
              "      <th>0</th>\n",
              "      <td>10.0.1.2</td>\n",
              "      <td>04/19/2010, 06:36:15</td>\n",
              "      <td>GET /feed/ HTTP/1.1</td>\n",
              "      <td>200</td>\n",
              "      <td>16605.0</td>\n",
              "    </tr>\n",
              "    <tr>\n",
              "      <th>1</th>\n",
              "      <td>10.0.1.2</td>\n",
              "      <td>04/19/2010, 07:05:25</td>\n",
              "      <td>GET /feed/ HTTP/1.1</td>\n",
              "      <td>200</td>\n",
              "      <td>16605.0</td>\n",
              "    </tr>\n",
              "    <tr>\n",
              "      <th>2</th>\n",
              "      <td>10.0.1.2</td>\n",
              "      <td>04/19/2010, 07:33:47</td>\n",
              "      <td>GET /feed/ HTTP/1.1</td>\n",
              "      <td>200</td>\n",
              "      <td>16605.0</td>\n",
              "    </tr>\n",
              "    <tr>\n",
              "      <th>3</th>\n",
              "      <td>10.0.1.2</td>\n",
              "      <td>04/19/2010, 08:02:10</td>\n",
              "      <td>GET /feed/ HTTP/1.1</td>\n",
              "      <td>200</td>\n",
              "      <td>16605.0</td>\n",
              "    </tr>\n",
              "    <tr>\n",
              "      <th>4</th>\n",
              "      <td>123.4.59.174</td>\n",
              "      <td>04/19/2010, 08:26:30</td>\n",
              "      <td>GET http://proxyjudge1.proxyfire.net/fastenv H...</td>\n",
              "      <td>404</td>\n",
              "      <td>1466.0</td>\n",
              "    </tr>\n",
              "  </tbody>\n",
              "</table>\n",
              "</div>\n",
              "      <button class=\"colab-df-convert\" onclick=\"convertToInteractive('df-5784355f-a413-40b5-8e11-fa413d091a8f')\"\n",
              "              title=\"Convert this dataframe to an interactive table.\"\n",
              "              style=\"display:none;\">\n",
              "        \n",
              "  <svg xmlns=\"http://www.w3.org/2000/svg\" height=\"24px\"viewBox=\"0 0 24 24\"\n",
              "       width=\"24px\">\n",
              "    <path d=\"M0 0h24v24H0V0z\" fill=\"none\"/>\n",
              "    <path d=\"M18.56 5.44l.94 2.06.94-2.06 2.06-.94-2.06-.94-.94-2.06-.94 2.06-2.06.94zm-11 1L8.5 8.5l.94-2.06 2.06-.94-2.06-.94L8.5 2.5l-.94 2.06-2.06.94zm10 10l.94 2.06.94-2.06 2.06-.94-2.06-.94-.94-2.06-.94 2.06-2.06.94z\"/><path d=\"M17.41 7.96l-1.37-1.37c-.4-.4-.92-.59-1.43-.59-.52 0-1.04.2-1.43.59L10.3 9.45l-7.72 7.72c-.78.78-.78 2.05 0 2.83L4 21.41c.39.39.9.59 1.41.59.51 0 1.02-.2 1.41-.59l7.78-7.78 2.81-2.81c.8-.78.8-2.07 0-2.86zM5.41 20L4 18.59l7.72-7.72 1.47 1.35L5.41 20z\"/>\n",
              "  </svg>\n",
              "      </button>\n",
              "      \n",
              "  <style>\n",
              "    .colab-df-container {\n",
              "      display:flex;\n",
              "      flex-wrap:wrap;\n",
              "      gap: 12px;\n",
              "    }\n",
              "\n",
              "    .colab-df-convert {\n",
              "      background-color: #E8F0FE;\n",
              "      border: none;\n",
              "      border-radius: 50%;\n",
              "      cursor: pointer;\n",
              "      display: none;\n",
              "      fill: #1967D2;\n",
              "      height: 32px;\n",
              "      padding: 0 0 0 0;\n",
              "      width: 32px;\n",
              "    }\n",
              "\n",
              "    .colab-df-convert:hover {\n",
              "      background-color: #E2EBFA;\n",
              "      box-shadow: 0px 1px 2px rgba(60, 64, 67, 0.3), 0px 1px 3px 1px rgba(60, 64, 67, 0.15);\n",
              "      fill: #174EA6;\n",
              "    }\n",
              "\n",
              "    [theme=dark] .colab-df-convert {\n",
              "      background-color: #3B4455;\n",
              "      fill: #D2E3FC;\n",
              "    }\n",
              "\n",
              "    [theme=dark] .colab-df-convert:hover {\n",
              "      background-color: #434B5C;\n",
              "      box-shadow: 0px 1px 3px 1px rgba(0, 0, 0, 0.15);\n",
              "      filter: drop-shadow(0px 1px 2px rgba(0, 0, 0, 0.3));\n",
              "      fill: #FFFFFF;\n",
              "    }\n",
              "  </style>\n",
              "\n",
              "      <script>\n",
              "        const buttonEl =\n",
              "          document.querySelector('#df-5784355f-a413-40b5-8e11-fa413d091a8f button.colab-df-convert');\n",
              "        buttonEl.style.display =\n",
              "          google.colab.kernel.accessAllowed ? 'block' : 'none';\n",
              "\n",
              "        async function convertToInteractive(key) {\n",
              "          const element = document.querySelector('#df-5784355f-a413-40b5-8e11-fa413d091a8f');\n",
              "          const dataTable =\n",
              "            await google.colab.kernel.invokeFunction('convertToInteractive',\n",
              "                                                     [key], {});\n",
              "          if (!dataTable) return;\n",
              "\n",
              "          const docLinkHtml = 'Like what you see? Visit the ' +\n",
              "            '<a target=\"_blank\" href=https://colab.research.google.com/notebooks/data_table.ipynb>data table notebook</a>'\n",
              "            + ' to learn more about interactive tables.';\n",
              "          element.innerHTML = '';\n",
              "          dataTable['output_type'] = 'display_data';\n",
              "          await google.colab.output.renderOutput(dataTable, element);\n",
              "          const docLink = document.createElement('div');\n",
              "          docLink.innerHTML = docLinkHtml;\n",
              "          element.appendChild(docLink);\n",
              "        }\n",
              "      </script>\n",
              "    </div>\n",
              "  </div>\n",
              "  "
            ]
          },
          "metadata": {},
          "execution_count": 64
        }
      ]
    },
    {
      "cell_type": "code",
      "source": [
        "df.nunique()"
      ],
      "metadata": {
        "colab": {
          "base_uri": "https://localhost:8080/"
        },
        "id": "lNAkBsQC8Tpu",
        "outputId": "91e0f635-a73d-40dd-ec0d-49cdcdbf3088"
      },
      "execution_count": 71,
      "outputs": [
        {
          "output_type": "execute_result",
          "data": {
            "text/plain": [
              "ip          27\n",
              "time       326\n",
              "request     16\n",
              "status       7\n",
              "size        13\n",
              "dtype: int64"
            ]
          },
          "metadata": {},
          "execution_count": 71
        }
      ]
    },
    {
      "cell_type": "markdown",
      "source": [
        "Answers to questions"
      ],
      "metadata": {
        "id": "947Xxyqdxd9x"
      }
    },
    {
      "cell_type": "code",
      "source": [
        "#1. Which service did the attackers use to gain access to the system?\n"
      ],
      "metadata": {
        "id": "ILNxIn15xfZN"
      },
      "execution_count": null,
      "outputs": []
    },
    {
      "cell_type": "code",
      "source": [
        "#2. What is the operating system version of the targeted system? (one word)\n",
        "\n"
      ],
      "metadata": {
        "id": "gw5_WCPpxpeC"
      },
      "execution_count": null,
      "outputs": []
    },
    {
      "cell_type": "code",
      "source": [
        "#3. What is the name of the compromised account?\n",
        "\n"
      ],
      "metadata": {
        "id": "povFdbCIxtiU"
      },
      "execution_count": null,
      "outputs": []
    },
    {
      "cell_type": "code",
      "source": [
        "#4. Consider that each unique IP represents a different attacker. How many attackers were able to get access to the system?"
      ],
      "metadata": {
        "id": "8Y57HbIoxttw"
      },
      "execution_count": null,
      "outputs": []
    },
    {
      "cell_type": "code",
      "source": [
        "#5. Which attacker's IP address successfully logged into the system the most number of times?\n",
        "\n"
      ],
      "metadata": {
        "id": "7q1vTf-Cxt2d"
      },
      "execution_count": null,
      "outputs": []
    },
    {
      "cell_type": "code",
      "source": [
        "#6. How many requests were sent to the Apache Server?\n",
        "\n"
      ],
      "metadata": {
        "id": "XqVGFGISx1SQ"
      },
      "execution_count": null,
      "outputs": []
    },
    {
      "cell_type": "code",
      "source": [
        "#7. How many rules have been added to the firewall?\n",
        "\n"
      ],
      "metadata": {
        "id": "vY6KoWNpx3Zr"
      },
      "execution_count": null,
      "outputs": []
    },
    {
      "cell_type": "code",
      "source": [
        "#8. One of the downloaded files to the target system is a scanning tool. Provide the tool name.\n",
        "\n"
      ],
      "metadata": {
        "id": "q-s4aOaox3qI"
      },
      "execution_count": null,
      "outputs": []
    },
    {
      "cell_type": "code",
      "source": [
        "#9. When was the last login from the attacker with IP 219.150.161.20? Format: MM/DD/YYYY HH:MM:SS AM\n",
        "\n",
        "\n",
        "\n"
      ],
      "metadata": {
        "id": "I4hFSWAjx3w-"
      },
      "execution_count": null,
      "outputs": []
    },
    {
      "cell_type": "code",
      "source": [
        "#10. The database displayed two warning messages, provide the most important and dangerous one.\n",
        "\n"
      ],
      "metadata": {
        "id": "IO-tsPgEx34j"
      },
      "execution_count": null,
      "outputs": []
    },
    {
      "cell_type": "code",
      "source": [
        "#11. Multiple accounts were created on the target system. Which one was created on Apr 26 04:43:15?\n",
        "\n"
      ],
      "metadata": {
        "id": "v0ah1XoTyFgT"
      },
      "execution_count": null,
      "outputs": []
    },
    {
      "cell_type": "code",
      "source": [
        "#12. Few attackers were using a proxy to run their scans. What is the corresponding user-agent used by this proxy?\n",
        "\n"
      ],
      "metadata": {
        "id": "tKolKchQyFql"
      },
      "execution_count": null,
      "outputs": []
    }
  ]
}