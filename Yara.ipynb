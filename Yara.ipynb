{
  "nbformat": 4,
  "nbformat_minor": 0,
  "metadata": {
    "colab": {
      "name": "Yara.ipynb",
      "provenance": [],
      "authorship_tag": "ABX9TyMJq6ongyOSZhOFZYFaC6fg",
      "include_colab_link": true
    },
    "kernelspec": {
      "name": "python3",
      "display_name": "Python 3"
    },
    "language_info": {
      "name": "python"
    }
  },
  "cells": [
    {
      "cell_type": "markdown",
      "metadata": {
        "id": "view-in-github",
        "colab_type": "text"
      },
      "source": [
        "<a href=\"https://colab.research.google.com/github/jamesdietle/2022CodingChallenges/blob/main/Yara.ipynb\" target=\"_parent\"><img src=\"https://colab.research.google.com/assets/colab-badge.svg\" alt=\"Open In Colab\"/></a>"
      ]
    },
    {
      "cell_type": "markdown",
      "source": [
        "Malware signatures\n",
        "\n",
        "A program that looks for malware signatures in binaries and code samples.\n",
        "Look at Yara rules for examples."
      ],
      "metadata": {
        "id": "B7Tu5w_jokLl"
      }
    },
    {
      "cell_type": "code",
      "execution_count": null,
      "metadata": {
        "id": "TFd_wVlwojM6"
      },
      "outputs": [],
      "source": [
        ""
      ]
    }
  ]
}