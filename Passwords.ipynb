{
  "nbformat": 4,
  "nbformat_minor": 0,
  "metadata": {
    "colab": {
      "name": "Passwords.ipynb",
      "provenance": [],
      "authorship_tag": "ABX9TyPnUd5aBWdGmdn2Dc6wDqnI",
      "include_colab_link": true
    },
    "kernelspec": {
      "name": "python3",
      "display_name": "Python 3"
    },
    "language_info": {
      "name": "python"
    }
  },
  "cells": [
    {
      "cell_type": "markdown",
      "metadata": {
        "id": "view-in-github",
        "colab_type": "text"
      },
      "source": [
        "<a href=\"https://colab.research.google.com/github/jamesdietle/2022CodingChallenges/blob/main/Passwords.ipynb\" target=\"_parent\"><img src=\"https://colab.research.google.com/assets/colab-badge.svg\" alt=\"Open In Colab\"/></a>"
      ]
    },
    {
      "cell_type": "markdown",
      "source": [
        "Password bruteforcer- Generate credentials and store successful logins.\n",
        "\n",
        "Reference:\n",
        "\n",
        "https://www.trustedsec.com/blog/generate-an-ntlm-hash-in-3-lines-of-python/\n",
        "\n"
      ],
      "metadata": {
        "id": "g7F96QBTnytv"
      }
    },
    {
      "cell_type": "code",
      "source": [
        "# Imports\n",
        "import hashlib\n",
        "import binascii"
      ],
      "metadata": {
        "id": "1TZx_4Irj1jp"
      },
      "execution_count": 42,
      "outputs": []
    },
    {
      "cell_type": "markdown",
      "source": [
        ""
      ],
      "metadata": {
        "id": "4eP4RlZsns5w"
      }
    },
    {
      "cell_type": "code",
      "source": [
        "# NTLM hash\n",
        "hash = hashlib.new('md4', \"password\".encode('utf-16le')).digest()\n",
        "print (binascii.hexlify(hash))"
      ],
      "metadata": {
        "id": "HeuehdAlli0D",
        "outputId": "35d7b2c8-013f-4c09-9d37-a8d1936ef44d",
        "colab": {
          "base_uri": "https://localhost:8080/"
        }
      },
      "execution_count": 43,
      "outputs": [
        {
          "output_type": "stream",
          "name": "stdout",
          "text": [
            "b'8846f7eaee8fb117ad06bdd830b7586c'\n"
          ]
        }
      ]
    },
    {
      "cell_type": "markdown",
      "source": [
        ""
      ],
      "metadata": {
        "id": "tDI3lg7WntWL"
      }
    },
    {
      "cell_type": "code",
      "source": [
        "# Password list\n",
        "# Later rock you\n",
        "passlist = [\"bob\",\"123456\",\"password\",\"newest\"]"
      ],
      "metadata": {
        "id": "3cL62Whgl43s"
      },
      "execution_count": 44,
      "outputs": []
    },
    {
      "cell_type": "code",
      "execution_count": 45,
      "metadata": {
        "id": "RffygenTnuCi"
      },
      "outputs": [],
      "source": [
        "#\n",
        "def passcrack(x,list):\n",
        "  # Go through the wordlist to see if anything matches\n",
        "  for i in list:\n",
        "    #NTLM hash\n",
        "    testhash= hashlib.new('md4', i.encode('utf-16le')).digest()\n",
        "    # If it equals then break\n",
        "    if testhash == x:\n",
        "      return (\"The answer is \"+i)\n",
        "  return (\"Not found\")"
      ]
    },
    {
      "cell_type": "code",
      "source": [
        "# Lets check the hashes\n",
        "passcrack(hash,passlist)"
      ],
      "metadata": {
        "id": "fcYP92_2kNiG",
        "outputId": "673b16af-a22c-41e6-b52f-2d13166d0396",
        "colab": {
          "base_uri": "https://localhost:8080/",
          "height": 38
        }
      },
      "execution_count": 46,
      "outputs": [
        {
          "output_type": "execute_result",
          "data": {
            "text/plain": [
              "'The answer is password'"
            ],
            "application/vnd.google.colaboratory.intrinsic+json": {
              "type": "string"
            }
          },
          "metadata": {},
          "execution_count": 46
        }
      ]
    },
    {
      "cell_type": "code",
      "source": [
        ""
      ],
      "metadata": {
        "id": "FSSnyx8UkRx7",
        "outputId": "a704ba99-8721-4403-a292-575580c72974",
        "colab": {
          "base_uri": "https://localhost:8080/"
        }
      },
      "execution_count": 10,
      "outputs": [
        {
          "output_type": "stream",
          "name": "stdout",
          "text": [
            "b'f3c13e6b1bb20805ca748e2d57bb76a0'\n"
          ]
        }
      ]
    },
    {
      "cell_type": "code",
      "source": [
        ""
      ],
      "metadata": {
        "id": "SbEUnvyClYJH"
      },
      "execution_count": null,
      "outputs": []
    }
  ]
}