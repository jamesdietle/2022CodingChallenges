{
  "nbformat": 4,
  "nbformat_minor": 0,
  "metadata": {
    "colab": {
      "name": "Passwords.ipynb",
      "provenance": [],
      "authorship_tag": "ABX9TyOnNWc+vwo3KWG1UiHEtY5c",
      "include_colab_link": true
    },
    "kernelspec": {
      "name": "python3",
      "display_name": "Python 3"
    },
    "language_info": {
      "name": "python"
    }
  },
  "cells": [
    {
      "cell_type": "markdown",
      "metadata": {
        "id": "view-in-github",
        "colab_type": "text"
      },
      "source": [
        "<a href=\"https://colab.research.google.com/github/jamesdietle/2022CodingChallenges/blob/main/Passwords.ipynb\" target=\"_parent\"><img src=\"https://colab.research.google.com/assets/colab-badge.svg\" alt=\"Open In Colab\"/></a>"
      ]
    },
    {
      "cell_type": "markdown",
      "source": [
        "Password bruteforcer- Generate credentials and store successful logins.\n",
        "\n",
        "\n"
      ],
      "metadata": {
        "id": "g7F96QBTnytv"
      }
    },
    {
      "cell_type": "code",
      "execution_count": null,
      "metadata": {
        "id": "RffygenTnuCi"
      },
      "outputs": [],
      "source": [
        ""
      ]
    }
  ]
}