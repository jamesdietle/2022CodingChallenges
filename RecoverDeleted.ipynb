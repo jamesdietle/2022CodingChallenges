{
  "nbformat": 4,
  "nbformat_minor": 0,
  "metadata": {
    "colab": {
      "name": "RecoverDeleted.ipynb",
      "provenance": [],
      "authorship_tag": "ABX9TyORuf8c/sxU4m2iTCH4CEWS",
      "include_colab_link": true
    },
    "kernelspec": {
      "name": "python3",
      "display_name": "Python 3"
    },
    "language_info": {
      "name": "python"
    }
  },
  "cells": [
    {
      "cell_type": "markdown",
      "metadata": {
        "id": "view-in-github",
        "colab_type": "text"
      },
      "source": [
        "<a href=\"https://colab.research.google.com/github/jamesdietle/2022CodingChallenges/blob/main/RecoverDeleted.ipynb\" target=\"_parent\"><img src=\"https://colab.research.google.com/assets/colab-badge.svg\" alt=\"Open In Colab\"/></a>"
      ]
    },
    {
      "cell_type": "markdown",
      "source": [
        "Recover deleted items\n",
        "\n",
        "Most software will keep deleted items for ~30 days for recovery. Find out where these are stored.\n",
        "Write a script to pull these items from local databases.\n"
      ],
      "metadata": {
        "id": "hTn1cx79oU0K"
      }
    },
    {
      "cell_type": "code",
      "source": [
        "!ls sample_data"
      ],
      "metadata": {
        "colab": {
          "base_uri": "https://localhost:8080/"
        },
        "id": "t8a8LnJprxh-",
        "outputId": "e73e2bb4-9d03-4fb2-f6e6-b96ac2e0f346"
      },
      "execution_count": 4,
      "outputs": [
        {
          "output_type": "stream",
          "name": "stdout",
          "text": [
            "anscombe.json\t\t      mnist_test.csv\n",
            "california_housing_test.csv   mnist_train_small.csv\n",
            "california_housing_train.csv  README.md\n"
          ]
        }
      ]
    },
    {
      "cell_type": "code",
      "source": [
        "!rm sample_data/cal*"
      ],
      "metadata": {
        "id": "BR0ysTGpr6-a"
      },
      "execution_count": 5,
      "outputs": []
    },
    {
      "cell_type": "code",
      "source": [
        "!ls sample_data"
      ],
      "metadata": {
        "colab": {
          "base_uri": "https://localhost:8080/"
        },
        "id": "kaeMSXyDsFr8",
        "outputId": "c16ba3d8-7aca-488e-bf4c-7be907d24cb8"
      },
      "execution_count": 7,
      "outputs": [
        {
          "output_type": "stream",
          "name": "stdout",
          "text": [
            "anscombe.json  mnist_test.csv  mnist_train_small.csv  README.md\n"
          ]
        }
      ]
    },
    {
      "cell_type": "code",
      "execution_count": 8,
      "metadata": {
        "id": "N3uPOTDFoQO-"
      },
      "outputs": [],
      "source": [
        "!find . -name .DS_Store -delete -print"
      ]
    },
    {
      "cell_type": "code",
      "source": [
        "!find . ! -type d -name .DS_Store -exec rm {} \\; -print"
      ],
      "metadata": {
        "id": "fXRgTU6bsQyd"
      },
      "execution_count": 9,
      "outputs": []
    },
    {
      "cell_type": "code",
      "source": [
        ""
      ],
      "metadata": {
        "id": "HNjEeZqwsR9C"
      },
      "execution_count": null,
      "outputs": []
    }
  ]
}