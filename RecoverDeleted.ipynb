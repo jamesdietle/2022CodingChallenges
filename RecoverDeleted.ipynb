{
  "nbformat": 4,
  "nbformat_minor": 0,
  "metadata": {
    "colab": {
      "name": "RecoverDeleted.ipynb",
      "provenance": [],
      "authorship_tag": "ABX9TyNuojHIcVgMRXv2U5G6Tn3z",
      "include_colab_link": true
    },
    "kernelspec": {
      "name": "python3",
      "display_name": "Python 3"
    },
    "language_info": {
      "name": "python"
    }
  },
  "cells": [
    {
      "cell_type": "markdown",
      "metadata": {
        "id": "view-in-github",
        "colab_type": "text"
      },
      "source": [
        "<a href=\"https://colab.research.google.com/github/jamesdietle/2022CodingChallenges/blob/main/RecoverDeleted.ipynb\" target=\"_parent\"><img src=\"https://colab.research.google.com/assets/colab-badge.svg\" alt=\"Open In Colab\"/></a>"
      ]
    },
    {
      "cell_type": "markdown",
      "source": [
        "Recover deleted items\n",
        "\n",
        "Most software will keep deleted items for ~30 days for recovery. Find out where these are stored.\n",
        "Write a script to pull these items from local databases.\n"
      ],
      "metadata": {
        "id": "hTn1cx79oU0K"
      }
    },
    {
      "cell_type": "code",
      "execution_count": null,
      "metadata": {
        "id": "N3uPOTDFoQO-"
      },
      "outputs": [],
      "source": [
        ""
      ]
    }
  ]
}