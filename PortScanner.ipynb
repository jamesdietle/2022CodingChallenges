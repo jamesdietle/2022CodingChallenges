{
  "nbformat": 4,
  "nbformat_minor": 0,
  "metadata": {
    "colab": {
      "name": "PortScanner.ipynb",
      "provenance": [],
      "collapsed_sections": []
    },
    "kernelspec": {
      "name": "python3",
      "display_name": "Python 3"
    },
    "language_info": {
      "name": "python"
    }
  },
  "cells": [
    {
      "cell_type": "markdown",
      "source": [
        "Hi! We are going to try to setup a Scanner\n",
        "\n"
      ],
      "metadata": {
        "id": "mLGAYKUpZPdY"
      }
    },
    {
      "cell_type": "code",
      "source": [
        "#We need this library\n",
        "!pip install pyfiglet"
      ],
      "metadata": {
        "colab": {
          "base_uri": "https://localhost:8080/"
        },
        "id": "g4_KsTQSZ64m",
        "outputId": "1e0aad1c-6983-401f-d1e2-36693ff8e959"
      },
      "execution_count": 6,
      "outputs": [
        {
          "output_type": "stream",
          "name": "stdout",
          "text": [
            "Looking in indexes: https://pypi.org/simple, https://us-python.pkg.dev/colab-wheels/public/simple/\n",
            "Requirement already satisfied: pyfiglet in /usr/local/lib/python3.7/dist-packages (0.8.post1)\n"
          ]
        }
      ]
    },
    {
      "cell_type": "code",
      "source": [
        "#Lets put in some libraries\n",
        "import pyfiglet\n",
        "import sys\n",
        "import socket\n",
        "from datetime import datetime\n",
        "\n",
        "# Fancy Banner\n",
        "ascii_banner = pyfiglet.figlet_format(\"A Port Scanner\")\n",
        "print(ascii_banner)\n",
        "print(\"Build to remake a port scanner in Google Colab\")\n",
        "print(\"Flattire\")"
      ],
      "metadata": {
        "colab": {
          "base_uri": "https://localhost:8080/"
        },
        "id": "cd4uTQ4PZmpF",
        "outputId": "6781f442-6756-4de7-a2a6-8d3ae5f69dc4"
      },
      "execution_count": 11,
      "outputs": [
        {
          "output_type": "stream",
          "name": "stdout",
          "text": [
            "    _      ____            _     ____                                  \n",
            "   / \\    |  _ \\ ___  _ __| |_  / ___|  ___ __ _ _ __  _ __   ___ _ __ \n",
            "  / _ \\   | |_) / _ \\| '__| __| \\___ \\ / __/ _` | '_ \\| '_ \\ / _ \\ '__|\n",
            " / ___ \\  |  __/ (_) | |  | |_   ___) | (_| (_| | | | | | | |  __/ |   \n",
            "/_/   \\_\\ |_|   \\___/|_|   \\__| |____/ \\___\\__,_|_| |_|_| |_|\\___|_|   \n",
            "                                                                       \n",
            "\n",
            "Build to remake a port scanner in Google Colab\n",
            "Flattire\n"
          ]
        }
      ]
    },
    {
      "cell_type": "markdown",
      "source": [
        "Features to add include:\n",
        "- Save list of saved ports per target\n",
        "- Multithread\n",
        "- Handle more Results\n"
      ],
      "metadata": {
        "id": "HmjLDNSCgmKW"
      }
    },
    {
      "cell_type": "code",
      "source": [
        "# Load data into this\n",
        "x= \"68.107.233.12\"\n",
        "target = x"
      ],
      "metadata": {
        "id": "yW85Fu4NZwVU"
      },
      "execution_count": 12,
      "outputs": []
    },
    {
      "cell_type": "code",
      "source": [
        "#ports = list(range(1,65535))\n",
        "ports = list(range(1,1200))"
      ],
      "metadata": {
        "id": "BZTrBai8dE6z"
      },
      "execution_count": 22,
      "outputs": []
    },
    {
      "cell_type": "code",
      "source": [
        "# Make a simple function\n",
        "def scanIp(target, ports):\n",
        "  # Add Banner\n",
        "  ascii_banner = pyfiglet.figlet_format(\"Scanning Targets: \")\n",
        "  print (ascii_banner)\n",
        "  print (target)\n",
        "  #Its always nice to see the start point\n",
        "  print(\"Scanning started at:\" + str(datetime.now()))\n",
        "\n",
        "# Break if bad stuff happens\n",
        "  try:\n",
        "      # will scan ports\n",
        "      for port in ports:\n",
        "        # Create a new socket\n",
        "          s = socket.socket(socket.AF_INET, socket.SOCK_STREAM)\n",
        "          socket.setdefaulttimeout(1)\n",
        "          \n",
        "          # returns an error indicator\n",
        "          result = s.connect_ex((target,port))\n",
        "          if result ==0:\n",
        "              print(\"Port {} is open\".format(port))\n",
        "          s.close()\n",
        "          if (port%10==0):\n",
        "            print (\"Scanning at \"+str(port)+\" \"+ str(datetime.now()))\n",
        "          \n",
        "          # Exceptionss\n",
        "  except KeyboardInterrupt:\n",
        "          print(\"\\n Exiting Program !!!!\")\n",
        "          sys.exit()\n",
        "  except socket.gaierror:\n",
        "          print(\"\\n Hostname Could Not Be Resolved !!!!\")\n",
        "          sys.exit()\n",
        "  except socket.error:\n",
        "          print(\"\\ Server not responding !!!!\")\n",
        "          sys.exit()"
      ],
      "metadata": {
        "id": "Por_5qhkZLMr"
      },
      "execution_count": 32,
      "outputs": []
    },
    {
      "cell_type": "code",
      "source": [
        "scanIp(target, ports)"
      ],
      "metadata": {
        "colab": {
          "base_uri": "https://localhost:8080/",
          "height": 633
        },
        "id": "hZeVa2ANbegt",
        "outputId": "35af34ce-317b-43ef-e66f-6e3a3da5cd44"
      },
      "execution_count": 33,
      "outputs": [
        {
          "output_type": "stream",
          "name": "stdout",
          "text": [
            " ____                        _             \n",
            "/ ___|  ___ __ _ _ __  _ __ (_)_ __   __ _ \n",
            "\\___ \\ / __/ _` | '_ \\| '_ \\| | '_ \\ / _` |\n",
            " ___) | (_| (_| | | | | | | | | | | | (_| |\n",
            "|____/ \\___\\__,_|_| |_|_| |_|_|_| |_|\\__, |\n",
            "                                     |___/ \n",
            " _____                    _          \n",
            "|_   _|_ _ _ __ __ _  ___| |_ ___ _  \n",
            "  | |/ _` | '__/ _` |/ _ \\ __/ __(_) \n",
            "  | | (_| | | | (_| |  __/ |_\\__ \\_  \n",
            "  |_|\\__,_|_|  \\__, |\\___|\\__|___(_) \n",
            "               |___/                 \n",
            "\n",
            "68.107.233.12\n",
            "Scanning started at:2022-06-18 20:25:08.218976\n",
            "Scanning at 10 2022-06-18 20:25:18.230778\n",
            "Scanning at 20 2022-06-18 20:25:28.243018\n",
            "Scanning at 30 2022-06-18 20:25:38.255794\n",
            "Scanning at 40 2022-06-18 20:25:48.268319\n",
            "Scanning at 50 2022-06-18 20:25:58.282035\n",
            "Scanning at 60 2022-06-18 20:26:08.295947\n",
            "Scanning at 70 2022-06-18 20:26:18.309309\n",
            "Scanning at 80 2022-06-18 20:26:28.323428\n",
            "Scanning at 90 2022-06-18 20:26:38.336166\n",
            "Scanning at 100 2022-06-18 20:26:48.350056\n",
            "\n",
            " Exiting Program !!!!\n"
          ]
        },
        {
          "output_type": "error",
          "ename": "SystemExit",
          "evalue": "ignored",
          "traceback": [
            "An exception has occurred, use %tb to see the full traceback.\n",
            "\u001b[0;31mSystemExit\u001b[0m\n"
          ]
        },
        {
          "output_type": "stream",
          "name": "stderr",
          "text": [
            "/usr/local/lib/python3.7/dist-packages/IPython/core/interactiveshell.py:2890: UserWarning: To exit: use 'exit', 'quit', or Ctrl-D.\n",
            "  warn(\"To exit: use 'exit', 'quit', or Ctrl-D.\", stacklevel=1)\n"
          ]
        }
      ]
    },
    {
      "cell_type": "code",
      "source": [
        ""
      ],
      "metadata": {
        "id": "MNqkBixvcRVg"
      },
      "execution_count": null,
      "outputs": []
    }
  ]
}