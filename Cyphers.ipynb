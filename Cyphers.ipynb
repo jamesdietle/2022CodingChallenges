{
  "nbformat": 4,
  "nbformat_minor": 0,
  "metadata": {
    "colab": {
      "name": "Cyphers.ipynb",
      "provenance": [],
      "authorship_tag": "ABX9TyNLuL0ro9c30kerPcfdFRfT",
      "include_colab_link": true
    },
    "kernelspec": {
      "name": "python3",
      "display_name": "Python 3"
    },
    "language_info": {
      "name": "python"
    }
  },
  "cells": [
    {
      "cell_type": "markdown",
      "metadata": {
        "id": "view-in-github",
        "colab_type": "text"
      },
      "source": [
        "<a href=\"https://colab.research.google.com/github/jamesdietle/2022CodingChallenges/blob/main/Cyphers.ipynb\" target=\"_parent\"><img src=\"https://colab.research.google.com/assets/colab-badge.svg\" alt=\"Open In Colab\"/></a>"
      ]
    },
    {
      "cell_type": "markdown",
      "source": [
        "Cyphers / encryption algorithms\n",
        "\n",
        "Implement a cypher which converts text to emoji or something.\n",
        "Be able to implement basic cyphers.\n",
        "\n",
        "Ref:\n",
        "\n",
        "https://www.geeksforgeeks.org/caesar-cipher-in-cryptography/\n"
      ],
      "metadata": {
        "id": "rhGNvcLnnfbf"
      }
    },
    {
      "cell_type": "code",
      "execution_count": 87,
      "metadata": {
        "id": "BD2jT88hnVDN"
      },
      "outputs": [],
      "source": [
        "#Rots\n",
        "def rotencrypt(text,s):\n",
        "  result = \"\"\n",
        "  print (text)\n",
        "  print (s)\n",
        " \n",
        "    # traverse text\n",
        "  for i in range(len(text)):\n",
        "    char = text[i]\n",
        " \n",
        "        # Encrypt uppercase characters\n",
        "    if (char.isupper()):\n",
        "      step2= (ord(char) + s) % 26 + 65\n",
        "      print (step2)\n",
        "      step1= chr(step2)\n",
        "      result += step1\n",
        " \n",
        "        # Encrypt lowercase characters\n",
        "    else:\n",
        "      step1 = chr((ord(char) + s) % 26 + 97)\n",
        "      result += step1\n",
        "\n",
        "\n",
        "  return result"
      ]
    },
    {
      "cell_type": "code",
      "source": [
        "print (text)\n",
        "rotencrypt(text,0)"
      ],
      "metadata": {
        "id": "oxQUuj944Vgt",
        "outputId": "4f236be4-5746-4b22-fe3a-1ac0f43fc453",
        "colab": {
          "base_uri": "https://localhost:8080/",
          "height": 250
        }
      },
      "execution_count": 88,
      "outputs": [
        {
          "output_type": "stream",
          "name": "stdout",
          "text": [
            "aTTaCKATaNCE\n",
            "aTTaCKATaNCE\n",
            "0\n",
            "71\n",
            "71\n",
            "80\n",
            "88\n",
            "78\n",
            "71\n",
            "65\n",
            "80\n",
            "82\n"
          ]
        },
        {
          "output_type": "execute_result",
          "data": {
            "text/plain": [
              "'tGGtPXNGtAPR'"
            ],
            "application/vnd.google.colaboratory.intrinsic+json": {
              "type": "string"
            }
          },
          "metadata": {},
          "execution_count": 88
        }
      ]
    },
    {
      "cell_type": "code",
      "source": [
        "ord(\"A\") % 26"
      ],
      "metadata": {
        "id": "8E-UzBkk8Llo",
        "outputId": "14595b3a-2952-468d-c733-846eda35e261",
        "colab": {
          "base_uri": "https://localhost:8080/"
        }
      },
      "execution_count": 86,
      "outputs": [
        {
          "output_type": "execute_result",
          "data": {
            "text/plain": [
              "13"
            ]
          },
          "metadata": {},
          "execution_count": 86
        }
      ]
    },
    {
      "cell_type": "code",
      "source": [
        "26 % 26"
      ],
      "metadata": {
        "id": "7rom4-0d8rmL",
        "outputId": "983e3c41-ff8f-4bb5-cc0a-3e76abaf356f",
        "colab": {
          "base_uri": "https://localhost:8080/"
        }
      },
      "execution_count": 60,
      "outputs": [
        {
          "output_type": "execute_result",
          "data": {
            "text/plain": [
              "0"
            ]
          },
          "metadata": {},
          "execution_count": 60
        }
      ]
    },
    {
      "cell_type": "code",
      "source": [
        "print (chr((ord(text[0]))+13))"
      ],
      "metadata": {
        "id": "I2SOKr4i0NQS",
        "outputId": "00d5601e-6e52-407c-e0c1-452d820fb8ec",
        "colab": {
          "base_uri": "https://localhost:8080/"
        }
      },
      "execution_count": 31,
      "outputs": [
        {
          "output_type": "stream",
          "name": "stdout",
          "text": [
            "N\n"
          ]
        }
      ]
    },
    {
      "cell_type": "code",
      "source": [
        "print (chr(13))"
      ],
      "metadata": {
        "id": "ZBby6Oaf13KJ",
        "outputId": "01e5cf80-dde0-4023-ae21-d0beefc8ea5b",
        "colab": {
          "base_uri": "https://localhost:8080/"
        }
      },
      "execution_count": 32,
      "outputs": [
        {
          "output_type": "stream",
          "name": "stdout",
          "text": [
            "\r\n"
          ]
        }
      ]
    },
    {
      "cell_type": "code",
      "source": [
        "#A python program to illustrate Caesar Cipher Technique\n",
        "def encrypt(text,s):\n",
        "    result = \"\"\n",
        " \n",
        "    # traverse text\n",
        "    for i in range(len(text)):\n",
        "        char = text[i]\n",
        " \n",
        "        # Encrypt uppercase characters\n",
        "        if (char.isupper()):\n",
        "            result += chr((ord(char) + s-65) % 26 + 65)\n",
        " \n",
        "        # Encrypt lowercase characters\n",
        "        else:\n",
        "            result += chr((ord(char) + s - 97) % 26 + 97)\n",
        " \n",
        "    return result"
      ],
      "metadata": {
        "id": "zDgaVaq3xgwN",
        "outputId": "5fae009b-2ece-41c0-e64c-09f9acb14836",
        "colab": {
          "base_uri": "https://localhost:8080/"
        }
      },
      "execution_count": 7,
      "outputs": [
        {
          "output_type": "stream",
          "name": "stdout",
          "text": [
            "Text  : ATTACKATONCE\n",
            "Shift : 4\n",
            "Cipher: EXXEGOEXSRGI\n"
          ]
        }
      ]
    },
    {
      "cell_type": "code",
      "source": [
        "#check the above function\n",
        "text = \"aTTaCKATaNCE\"\n",
        "s = 4\n",
        "print (\"Text  : \" + text)\n",
        "print (\"Shift : \" + str(s))\n",
        "print (\"Cipher: \" + encrypt(text,s))"
      ],
      "metadata": {
        "id": "e-3Vsjunz6Hi",
        "outputId": "aec0b458-af28-4c14-d66c-17303a8ccb4b",
        "colab": {
          "base_uri": "https://localhost:8080/"
        }
      },
      "execution_count": 66,
      "outputs": [
        {
          "output_type": "stream",
          "name": "stdout",
          "text": [
            "Text  : aTTaCKATaNCE\n",
            "Shift : 4\n",
            "Cipher: eXXeGOEXeRGI\n"
          ]
        }
      ]
    },
    {
      "cell_type": "code",
      "source": [
        ""
      ],
      "metadata": {
        "id": "dg8p4-1YxvgH"
      },
      "execution_count": null,
      "outputs": []
    }
  ]
}