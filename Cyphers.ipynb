{
  "nbformat": 4,
  "nbformat_minor": 0,
  "metadata": {
    "colab": {
      "name": "Cyphers.ipynb",
      "provenance": [],
      "authorship_tag": "ABX9TyM1LvW1qON9YxyWbGGt/CRv",
      "include_colab_link": true
    },
    "kernelspec": {
      "name": "python3",
      "display_name": "Python 3"
    },
    "language_info": {
      "name": "python"
    }
  },
  "cells": [
    {
      "cell_type": "markdown",
      "metadata": {
        "id": "view-in-github",
        "colab_type": "text"
      },
      "source": [
        "<a href=\"https://colab.research.google.com/github/jamesdietle/2022CodingChallenges/blob/main/Cyphers.ipynb\" target=\"_parent\"><img src=\"https://colab.research.google.com/assets/colab-badge.svg\" alt=\"Open In Colab\"/></a>"
      ]
    },
    {
      "cell_type": "markdown",
      "source": [
        "Cyphers / encryption algorithms\n",
        "\n",
        "Implement a cypher which converts text to emoji or something.\n",
        "Be able to implement basic cyphers.\n",
        "\n",
        "Ref:\n"
      ],
      "metadata": {
        "id": "rhGNvcLnnfbf"
      }
    },
    {
      "cell_type": "code",
      "execution_count": null,
      "metadata": {
        "id": "BD2jT88hnVDN"
      },
      "outputs": [],
      "source": [
        ""
      ]
    }
  ]
}