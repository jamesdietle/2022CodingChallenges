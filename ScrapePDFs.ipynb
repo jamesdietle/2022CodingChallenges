{
  "nbformat": 4,
  "nbformat_minor": 0,
  "metadata": {
    "colab": {
      "name": "ScrapePDFs.ipynb",
      "provenance": [],
      "authorship_tag": "ABX9TyOVLKyAmd9VPKfuZu/VdTUg",
      "include_colab_link": true
    },
    "kernelspec": {
      "name": "python3",
      "display_name": "Python 3"
    },
    "language_info": {
      "name": "python"
    }
  },
  "cells": [
    {
      "cell_type": "markdown",
      "metadata": {
        "id": "view-in-github",
        "colab_type": "text"
      },
      "source": [
        "<a href=\"https://colab.research.google.com/github/jamesdietle/2022CodingChallenges/blob/main/ScrapePDFs.ipynb\" target=\"_parent\"><img src=\"https://colab.research.google.com/assets/colab-badge.svg\" alt=\"Open In Colab\"/></a>"
      ]
    },
    {
      "cell_type": "markdown",
      "source": [
        "Scrape metadata from PDFs\n",
        "\n",
        "Write a mini forensics tool to collect identifying information from PDF metadata"
      ],
      "metadata": {
        "id": "fbVMUmlKoCsQ"
      }
    },
    {
      "cell_type": "code",
      "execution_count": null,
      "metadata": {
        "id": "Bw5_XV65oB2M"
      },
      "outputs": [],
      "source": [
        ""
      ]
    }
  ]
}